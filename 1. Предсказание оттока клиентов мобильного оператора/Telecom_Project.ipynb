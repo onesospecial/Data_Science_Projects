{
 "cells": [
  {
   "cell_type": "markdown",
   "id": "ae01d035",
   "metadata": {
    "toc": true
   },
   "source": [
    "<h1>Содержание проекта<span class=\"tocSkip\"></span></h1>\n",
    "<div class=\"toc\"><ul class=\"toc-item\"><li><span><a href=\"#Первичный-анализ-данных\" data-toc-modified-id=\"Первичный-анализ-данных-1\"><span class=\"toc-item-num\">1&nbsp;&nbsp;</span>Первичный анализ данных</a></span></li><li><span><a href=\"#Уточнение-задачи\" data-toc-modified-id=\"Уточнение-задачи-2\"><span class=\"toc-item-num\">2&nbsp;&nbsp;</span>Уточнение задачи</a></span></li><li><span><a href=\"#Предобработка-данных\" data-toc-modified-id=\"Предобработка-данных-3\"><span class=\"toc-item-num\">3&nbsp;&nbsp;</span>Предобработка данных</a></span><ul class=\"toc-item\"><li><span><a href=\"#Обработка-данных-договора-(contract_df)\" data-toc-modified-id=\"Обработка-данных-договора-(contract_df)-3.1\"><span class=\"toc-item-num\">3.1&nbsp;&nbsp;</span>Обработка данных договора (contract_df)</a></span></li><li><span><a href=\"#Итог-предобработки\" data-toc-modified-id=\"Итог-предобработки-3.2\"><span class=\"toc-item-num\">3.2&nbsp;&nbsp;</span>Итог предобработки</a></span></li></ul></li><li><span><a href=\"#Расширенный-EDA\" data-toc-modified-id=\"Расширенный-EDA-4\"><span class=\"toc-item-num\">4&nbsp;&nbsp;</span>Расширенный EDA</a></span></li><li><span><a href=\"#Разработка-модели-машинного-обучения\" data-toc-modified-id=\"Разработка-модели-машинного-обучения-5\"><span class=\"toc-item-num\">5&nbsp;&nbsp;</span>Разработка модели машинного обучения</a></span><ul class=\"toc-item\"><li><span><a href=\"#Работа-с-признаками\" data-toc-modified-id=\"Работа-с-признаками-5.1\"><span class=\"toc-item-num\">5.1&nbsp;&nbsp;</span>Работа с признаками</a></span><ul class=\"toc-item\"><li><span><a href=\"#Корреляция-и-мультиколлинеарность\" data-toc-modified-id=\"Корреляция-и-мультиколлинеарность-5.1.1\"><span class=\"toc-item-num\">5.1.1&nbsp;&nbsp;</span>Корреляция и мультиколлинеарность</a></span></li><li><span><a href=\"#Сплит\" data-toc-modified-id=\"Сплит-5.1.2\"><span class=\"toc-item-num\">5.1.2&nbsp;&nbsp;</span>Сплит</a></span></li></ul></li><li><span><a href=\"#Обучение-моделей\" data-toc-modified-id=\"Обучение-моделей-5.2\"><span class=\"toc-item-num\">5.2&nbsp;&nbsp;</span>Обучение моделей</a></span><ul class=\"toc-item\"><li><span><a href=\"#XGBoostClassifier\" data-toc-modified-id=\"XGBoostClassifier-5.2.1\"><span class=\"toc-item-num\">5.2.1&nbsp;&nbsp;</span>XGBoostClassifier</a></span></li><li><span><a href=\"#Lasso\" data-toc-modified-id=\"Lasso-5.2.2\"><span class=\"toc-item-num\">5.2.2&nbsp;&nbsp;</span>Lasso</a></span></li><li><span><a href=\"#Ridge\" data-toc-modified-id=\"Ridge-5.2.3\"><span class=\"toc-item-num\">5.2.3&nbsp;&nbsp;</span>Ridge</a></span></li><li><span><a href=\"#LogisticRegression\" data-toc-modified-id=\"LogisticRegression-5.2.4\"><span class=\"toc-item-num\">5.2.4&nbsp;&nbsp;</span>LogisticRegression</a></span></li><li><span><a href=\"#RandomForestClassifier\" data-toc-modified-id=\"RandomForestClassifier-5.2.5\"><span class=\"toc-item-num\">5.2.5&nbsp;&nbsp;</span>RandomForestClassifier</a></span></li><li><span><a href=\"#Метод-опорных-векторов-SVM\" data-toc-modified-id=\"Метод-опорных-векторов-SVM-5.2.6\"><span class=\"toc-item-num\">5.2.6&nbsp;&nbsp;</span>Метод опорных векторов SVM</a></span></li><li><span><a href=\"#Вывод-из-обучения\" data-toc-modified-id=\"Вывод-из-обучения-5.2.7\"><span class=\"toc-item-num\">5.2.7&nbsp;&nbsp;</span>Вывод из обучения</a></span></li></ul></li><li><span><a href=\"#Подбор-гиперпараметров\" data-toc-modified-id=\"Подбор-гиперпараметров-5.3\"><span class=\"toc-item-num\">5.3&nbsp;&nbsp;</span>Подбор гиперпараметров</a></span></li><li><span><a href=\"#Тестирование-модели\" data-toc-modified-id=\"Тестирование-модели-5.4\"><span class=\"toc-item-num\">5.4&nbsp;&nbsp;</span>Тестирование модели</a></span></li></ul></li><li><span><a href=\"#Итоговый-отчет\" data-toc-modified-id=\"Итоговый-отчет-6\"><span class=\"toc-item-num\">6&nbsp;&nbsp;</span>Итоговый отчет</a></span></li></ul></div>"
   ]
  },
  {
   "cell_type": "markdown",
   "id": "e95889e2",
   "metadata": {},
   "source": [
    "# Проект \"Телеком\""
   ]
  },
  {
   "cell_type": "markdown",
   "id": "4d727e9d",
   "metadata": {},
   "source": [
    "Необходимо разработать модель прогнозирования оттока клиентов для оператора связи. Если выяснится, что пользователь планирует уйти, ему будут предложены промокоды и специальные условия. Команда оператора собрала персональные данные о некоторых клиентах, информацию об их тарифах и договорах. "
   ]
  },
  {
   "cell_type": "markdown",
   "id": "3a4cd0bf",
   "metadata": {},
   "source": [
    "## Первичный анализ данных"
   ]
  },
  {
   "cell_type": "markdown",
   "id": "63782d7b",
   "metadata": {},
   "source": [
    "Данные состоят из файлов, полученных из разных источников.\n",
    "\n",
    "Во всех файлах столбец `customerID` содержит код клиента.\n",
    "\n",
    "Прежде всего, необходимо взглянуть на данные и разработать план последующей работы. Загрузим необходимые библиотеки и данные:"
   ]
  },
  {
   "cell_type": "code",
   "execution_count": 1,
   "id": "52dca6ab",
   "metadata": {},
   "outputs": [],
   "source": [
    "import pandas as pd\n",
    "import numpy as np\n",
    "\n",
    "import seaborn as sns\n",
    "import matplotlib.pyplot as plt\n",
    "#%matplotlib notebook\n",
    "\n",
    "from xgboost import XGBClassifier\n",
    "\n",
    "from sklearn import svm\n",
    "from sklearn.compose import ColumnTransformer\n",
    "from sklearn.ensemble import RandomForestClassifier\n",
    "from sklearn.feature_selection import RFECV\n",
    "from sklearn.linear_model import LogisticRegression, LassoCV, Ridge\n",
    "from sklearn.model_selection import cross_val_score, train_test_split, GridSearchCV, RepeatedStratifiedKFold\n",
    "from sklearn.metrics import accuracy_score, roc_auc_score, roc_curve, confusion_matrix\n",
    "from sklearn.preprocessing import StandardScaler, OneHotEncoder\n",
    "from sklearn.pipeline import Pipeline\n",
    "from imblearn.pipeline import Pipeline as imbPipeline\n",
    "from imblearn.over_sampling import SMOTE\n",
    "\n",
    "import phik\n",
    "from phik.report import plot_correlation_matrix\n",
    "from phik import report\n",
    "\n",
    "import gc\n",
    "from IPython.display import Markdown, display"
   ]
  },
  {
   "cell_type": "code",
   "execution_count": 2,
   "id": "e646fe00",
   "metadata": {},
   "outputs": [],
   "source": [
    "def pd_read(path):\n",
    "    df = pd.read_csv(path)\n",
    "    display(Markdown('**Первые пять записей и общая информация по таблице:**'), df.head())\n",
    "    display(df.info())\n",
    "    display(Markdown('**Статистика по данным:**'), df.describe(include='all'))\n",
    "    display(Markdown('**Таблица корреляции:**'), df.corr())\n",
    "    display(Markdown('**Размер данных:**'), df.shape)\n",
    "    return df"
   ]
  },
  {
   "cell_type": "code",
   "execution_count": 3,
   "id": "64246b27",
   "metadata": {},
   "outputs": [
    {
     "data": {
      "text/markdown": [
       "**Первые пять записей и общая информация по таблице:**"
      ],
      "text/plain": [
       "<IPython.core.display.Markdown object>"
      ]
     },
     "metadata": {},
     "output_type": "display_data"
    },
    {
     "data": {
      "text/html": [
       "<div>\n",
       "<style scoped>\n",
       "    .dataframe tbody tr th:only-of-type {\n",
       "        vertical-align: middle;\n",
       "    }\n",
       "\n",
       "    .dataframe tbody tr th {\n",
       "        vertical-align: top;\n",
       "    }\n",
       "\n",
       "    .dataframe thead th {\n",
       "        text-align: right;\n",
       "    }\n",
       "</style>\n",
       "<table border=\"1\" class=\"dataframe\">\n",
       "  <thead>\n",
       "    <tr style=\"text-align: right;\">\n",
       "      <th></th>\n",
       "      <th>customerID</th>\n",
       "      <th>BeginDate</th>\n",
       "      <th>EndDate</th>\n",
       "      <th>Type</th>\n",
       "      <th>PaperlessBilling</th>\n",
       "      <th>PaymentMethod</th>\n",
       "      <th>MonthlyCharges</th>\n",
       "      <th>TotalCharges</th>\n",
       "    </tr>\n",
       "  </thead>\n",
       "  <tbody>\n",
       "    <tr>\n",
       "      <th>0</th>\n",
       "      <td>7590-VHVEG</td>\n",
       "      <td>2020-01-01</td>\n",
       "      <td>No</td>\n",
       "      <td>Month-to-month</td>\n",
       "      <td>Yes</td>\n",
       "      <td>Electronic check</td>\n",
       "      <td>29.85</td>\n",
       "      <td>29.85</td>\n",
       "    </tr>\n",
       "    <tr>\n",
       "      <th>1</th>\n",
       "      <td>5575-GNVDE</td>\n",
       "      <td>2017-04-01</td>\n",
       "      <td>No</td>\n",
       "      <td>One year</td>\n",
       "      <td>No</td>\n",
       "      <td>Mailed check</td>\n",
       "      <td>56.95</td>\n",
       "      <td>1889.5</td>\n",
       "    </tr>\n",
       "    <tr>\n",
       "      <th>2</th>\n",
       "      <td>3668-QPYBK</td>\n",
       "      <td>2019-10-01</td>\n",
       "      <td>2019-12-01 00:00:00</td>\n",
       "      <td>Month-to-month</td>\n",
       "      <td>Yes</td>\n",
       "      <td>Mailed check</td>\n",
       "      <td>53.85</td>\n",
       "      <td>108.15</td>\n",
       "    </tr>\n",
       "    <tr>\n",
       "      <th>3</th>\n",
       "      <td>7795-CFOCW</td>\n",
       "      <td>2016-05-01</td>\n",
       "      <td>No</td>\n",
       "      <td>One year</td>\n",
       "      <td>No</td>\n",
       "      <td>Bank transfer (automatic)</td>\n",
       "      <td>42.30</td>\n",
       "      <td>1840.75</td>\n",
       "    </tr>\n",
       "    <tr>\n",
       "      <th>4</th>\n",
       "      <td>9237-HQITU</td>\n",
       "      <td>2019-09-01</td>\n",
       "      <td>2019-11-01 00:00:00</td>\n",
       "      <td>Month-to-month</td>\n",
       "      <td>Yes</td>\n",
       "      <td>Electronic check</td>\n",
       "      <td>70.70</td>\n",
       "      <td>151.65</td>\n",
       "    </tr>\n",
       "  </tbody>\n",
       "</table>\n",
       "</div>"
      ],
      "text/plain": [
       "   customerID   BeginDate              EndDate            Type  \\\n",
       "0  7590-VHVEG  2020-01-01                   No  Month-to-month   \n",
       "1  5575-GNVDE  2017-04-01                   No        One year   \n",
       "2  3668-QPYBK  2019-10-01  2019-12-01 00:00:00  Month-to-month   \n",
       "3  7795-CFOCW  2016-05-01                   No        One year   \n",
       "4  9237-HQITU  2019-09-01  2019-11-01 00:00:00  Month-to-month   \n",
       "\n",
       "  PaperlessBilling              PaymentMethod  MonthlyCharges TotalCharges  \n",
       "0              Yes           Electronic check           29.85        29.85  \n",
       "1               No               Mailed check           56.95       1889.5  \n",
       "2              Yes               Mailed check           53.85       108.15  \n",
       "3               No  Bank transfer (automatic)           42.30      1840.75  \n",
       "4              Yes           Electronic check           70.70       151.65  "
      ]
     },
     "metadata": {},
     "output_type": "display_data"
    },
    {
     "name": "stdout",
     "output_type": "stream",
     "text": [
      "<class 'pandas.core.frame.DataFrame'>\n",
      "RangeIndex: 7043 entries, 0 to 7042\n",
      "Data columns (total 8 columns):\n",
      " #   Column            Non-Null Count  Dtype  \n",
      "---  ------            --------------  -----  \n",
      " 0   customerID        7043 non-null   object \n",
      " 1   BeginDate         7043 non-null   object \n",
      " 2   EndDate           7043 non-null   object \n",
      " 3   Type              7043 non-null   object \n",
      " 4   PaperlessBilling  7043 non-null   object \n",
      " 5   PaymentMethod     7043 non-null   object \n",
      " 6   MonthlyCharges    7043 non-null   float64\n",
      " 7   TotalCharges      7043 non-null   object \n",
      "dtypes: float64(1), object(7)\n",
      "memory usage: 440.3+ KB\n"
     ]
    },
    {
     "data": {
      "text/plain": [
       "None"
      ]
     },
     "metadata": {},
     "output_type": "display_data"
    },
    {
     "data": {
      "text/markdown": [
       "**Статистика по данным:**"
      ],
      "text/plain": [
       "<IPython.core.display.Markdown object>"
      ]
     },
     "metadata": {},
     "output_type": "display_data"
    },
    {
     "data": {
      "text/html": [
       "<div>\n",
       "<style scoped>\n",
       "    .dataframe tbody tr th:only-of-type {\n",
       "        vertical-align: middle;\n",
       "    }\n",
       "\n",
       "    .dataframe tbody tr th {\n",
       "        vertical-align: top;\n",
       "    }\n",
       "\n",
       "    .dataframe thead th {\n",
       "        text-align: right;\n",
       "    }\n",
       "</style>\n",
       "<table border=\"1\" class=\"dataframe\">\n",
       "  <thead>\n",
       "    <tr style=\"text-align: right;\">\n",
       "      <th></th>\n",
       "      <th>customerID</th>\n",
       "      <th>BeginDate</th>\n",
       "      <th>EndDate</th>\n",
       "      <th>Type</th>\n",
       "      <th>PaperlessBilling</th>\n",
       "      <th>PaymentMethod</th>\n",
       "      <th>MonthlyCharges</th>\n",
       "      <th>TotalCharges</th>\n",
       "    </tr>\n",
       "  </thead>\n",
       "  <tbody>\n",
       "    <tr>\n",
       "      <th>count</th>\n",
       "      <td>7043</td>\n",
       "      <td>7043</td>\n",
       "      <td>7043</td>\n",
       "      <td>7043</td>\n",
       "      <td>7043</td>\n",
       "      <td>7043</td>\n",
       "      <td>7043.000000</td>\n",
       "      <td>7043</td>\n",
       "    </tr>\n",
       "    <tr>\n",
       "      <th>unique</th>\n",
       "      <td>7043</td>\n",
       "      <td>77</td>\n",
       "      <td>5</td>\n",
       "      <td>3</td>\n",
       "      <td>2</td>\n",
       "      <td>4</td>\n",
       "      <td>NaN</td>\n",
       "      <td>6531</td>\n",
       "    </tr>\n",
       "    <tr>\n",
       "      <th>top</th>\n",
       "      <td>7590-VHVEG</td>\n",
       "      <td>2014-02-01</td>\n",
       "      <td>No</td>\n",
       "      <td>Month-to-month</td>\n",
       "      <td>Yes</td>\n",
       "      <td>Electronic check</td>\n",
       "      <td>NaN</td>\n",
       "      <td></td>\n",
       "    </tr>\n",
       "    <tr>\n",
       "      <th>freq</th>\n",
       "      <td>1</td>\n",
       "      <td>366</td>\n",
       "      <td>5174</td>\n",
       "      <td>3875</td>\n",
       "      <td>4171</td>\n",
       "      <td>2365</td>\n",
       "      <td>NaN</td>\n",
       "      <td>11</td>\n",
       "    </tr>\n",
       "    <tr>\n",
       "      <th>mean</th>\n",
       "      <td>NaN</td>\n",
       "      <td>NaN</td>\n",
       "      <td>NaN</td>\n",
       "      <td>NaN</td>\n",
       "      <td>NaN</td>\n",
       "      <td>NaN</td>\n",
       "      <td>64.761692</td>\n",
       "      <td>NaN</td>\n",
       "    </tr>\n",
       "    <tr>\n",
       "      <th>std</th>\n",
       "      <td>NaN</td>\n",
       "      <td>NaN</td>\n",
       "      <td>NaN</td>\n",
       "      <td>NaN</td>\n",
       "      <td>NaN</td>\n",
       "      <td>NaN</td>\n",
       "      <td>30.090047</td>\n",
       "      <td>NaN</td>\n",
       "    </tr>\n",
       "    <tr>\n",
       "      <th>min</th>\n",
       "      <td>NaN</td>\n",
       "      <td>NaN</td>\n",
       "      <td>NaN</td>\n",
       "      <td>NaN</td>\n",
       "      <td>NaN</td>\n",
       "      <td>NaN</td>\n",
       "      <td>18.250000</td>\n",
       "      <td>NaN</td>\n",
       "    </tr>\n",
       "    <tr>\n",
       "      <th>25%</th>\n",
       "      <td>NaN</td>\n",
       "      <td>NaN</td>\n",
       "      <td>NaN</td>\n",
       "      <td>NaN</td>\n",
       "      <td>NaN</td>\n",
       "      <td>NaN</td>\n",
       "      <td>35.500000</td>\n",
       "      <td>NaN</td>\n",
       "    </tr>\n",
       "    <tr>\n",
       "      <th>50%</th>\n",
       "      <td>NaN</td>\n",
       "      <td>NaN</td>\n",
       "      <td>NaN</td>\n",
       "      <td>NaN</td>\n",
       "      <td>NaN</td>\n",
       "      <td>NaN</td>\n",
       "      <td>70.350000</td>\n",
       "      <td>NaN</td>\n",
       "    </tr>\n",
       "    <tr>\n",
       "      <th>75%</th>\n",
       "      <td>NaN</td>\n",
       "      <td>NaN</td>\n",
       "      <td>NaN</td>\n",
       "      <td>NaN</td>\n",
       "      <td>NaN</td>\n",
       "      <td>NaN</td>\n",
       "      <td>89.850000</td>\n",
       "      <td>NaN</td>\n",
       "    </tr>\n",
       "    <tr>\n",
       "      <th>max</th>\n",
       "      <td>NaN</td>\n",
       "      <td>NaN</td>\n",
       "      <td>NaN</td>\n",
       "      <td>NaN</td>\n",
       "      <td>NaN</td>\n",
       "      <td>NaN</td>\n",
       "      <td>118.750000</td>\n",
       "      <td>NaN</td>\n",
       "    </tr>\n",
       "  </tbody>\n",
       "</table>\n",
       "</div>"
      ],
      "text/plain": [
       "        customerID   BeginDate EndDate            Type PaperlessBilling  \\\n",
       "count         7043        7043    7043            7043             7043   \n",
       "unique        7043          77       5               3                2   \n",
       "top     7590-VHVEG  2014-02-01      No  Month-to-month              Yes   \n",
       "freq             1         366    5174            3875             4171   \n",
       "mean           NaN         NaN     NaN             NaN              NaN   \n",
       "std            NaN         NaN     NaN             NaN              NaN   \n",
       "min            NaN         NaN     NaN             NaN              NaN   \n",
       "25%            NaN         NaN     NaN             NaN              NaN   \n",
       "50%            NaN         NaN     NaN             NaN              NaN   \n",
       "75%            NaN         NaN     NaN             NaN              NaN   \n",
       "max            NaN         NaN     NaN             NaN              NaN   \n",
       "\n",
       "           PaymentMethod  MonthlyCharges TotalCharges  \n",
       "count               7043     7043.000000         7043  \n",
       "unique                 4             NaN         6531  \n",
       "top     Electronic check             NaN               \n",
       "freq                2365             NaN           11  \n",
       "mean                 NaN       64.761692          NaN  \n",
       "std                  NaN       30.090047          NaN  \n",
       "min                  NaN       18.250000          NaN  \n",
       "25%                  NaN       35.500000          NaN  \n",
       "50%                  NaN       70.350000          NaN  \n",
       "75%                  NaN       89.850000          NaN  \n",
       "max                  NaN      118.750000          NaN  "
      ]
     },
     "metadata": {},
     "output_type": "display_data"
    },
    {
     "data": {
      "text/markdown": [
       "**Таблица корреляции:**"
      ],
      "text/plain": [
       "<IPython.core.display.Markdown object>"
      ]
     },
     "metadata": {},
     "output_type": "display_data"
    },
    {
     "data": {
      "text/html": [
       "<div>\n",
       "<style scoped>\n",
       "    .dataframe tbody tr th:only-of-type {\n",
       "        vertical-align: middle;\n",
       "    }\n",
       "\n",
       "    .dataframe tbody tr th {\n",
       "        vertical-align: top;\n",
       "    }\n",
       "\n",
       "    .dataframe thead th {\n",
       "        text-align: right;\n",
       "    }\n",
       "</style>\n",
       "<table border=\"1\" class=\"dataframe\">\n",
       "  <thead>\n",
       "    <tr style=\"text-align: right;\">\n",
       "      <th></th>\n",
       "      <th>MonthlyCharges</th>\n",
       "    </tr>\n",
       "  </thead>\n",
       "  <tbody>\n",
       "    <tr>\n",
       "      <th>MonthlyCharges</th>\n",
       "      <td>1.0</td>\n",
       "    </tr>\n",
       "  </tbody>\n",
       "</table>\n",
       "</div>"
      ],
      "text/plain": [
       "                MonthlyCharges\n",
       "MonthlyCharges             1.0"
      ]
     },
     "metadata": {},
     "output_type": "display_data"
    },
    {
     "data": {
      "text/markdown": [
       "**Размер данных:**"
      ],
      "text/plain": [
       "<IPython.core.display.Markdown object>"
      ]
     },
     "metadata": {},
     "output_type": "display_data"
    },
    {
     "data": {
      "text/plain": [
       "(7043, 8)"
      ]
     },
     "metadata": {},
     "output_type": "display_data"
    }
   ],
   "source": [
    "try:\n",
    "    contract_df = pd_read('C://Users//SpecialOne//data_science//datasets//final_provider//contract.csv')\n",
    "except ImportError:\n",
    "    contract_df = pd_read('/datasets/final_provider/contract.csv')\n",
    "except FileNotFoundError:\n",
    "    contract_df = pd_read('/datasets/final_provider/contract.csv')"
   ]
  },
  {
   "cell_type": "code",
   "execution_count": 5,
   "id": "18ba3852",
   "metadata": {},
   "outputs": [
    {
     "data": {
      "image/png": "[encoded data removed]",
      "text/plain": [
       "<Figure size 720x360 with 1 Axes>"
      ]
     },
     "metadata": {
      "needs_background": "light"
     },
     "output_type": "display_data"
    }
   ],
   "source": [
    "g = sns.displot(contract_df['MonthlyCharges'],\n",
    "            kde = True\n",
    "           )\n",
    "g.fig.set_figheight(5)\n",
    "g.fig.set_figwidth(10)"
   ]
  },
  {
   "cell_type": "markdown",
   "id": "114fda5b",
   "metadata": {},
   "source": [
    "В данном наборе содержится информация о деталях контракта клиента. Как мы видим, образовалось 3 условных кластера: большинство обходится минимальным пакетом услуг и ограничиваются в 25 ед. оплаты в месяц. Есть группа клиентов со средней оплатой около 50-55, а также группа с наибольшей дисперсией: средняя оплата в ней примерно 85-90. Также, данный набор содержит наш целевой признак `EndDate`, содержащий информацию о том, ушел ли клиент."
   ]
  },
  {
   "cell_type": "code",
   "execution_count": 4,
   "id": "bf149d52",
   "metadata": {
    "scrolled": false
   },
   "outputs": [
    {
     "data": {
      "text/markdown": [
       "**Первые пять записей и общая информация по таблице:**"
      ],
      "text/plain": [
       "<IPython.core.display.Markdown object>"
      ]
     },
     "metadata": {},
     "output_type": "display_data"
    },
    {
     "data": {
      "text/html": [
       "<div>\n",
       "<style scoped>\n",
       "    .dataframe tbody tr th:only-of-type {\n",
       "        vertical-align: middle;\n",
       "    }\n",
       "\n",
       "    .dataframe tbody tr th {\n",
       "        vertical-align: top;\n",
       "    }\n",
       "\n",
       "    .dataframe thead th {\n",
       "        text-align: right;\n",
       "    }\n",
       "</style>\n",
       "<table border=\"1\" class=\"dataframe\">\n",
       "  <thead>\n",
       "    <tr style=\"text-align: right;\">\n",
       "      <th></th>\n",
       "      <th>customerID</th>\n",
       "      <th>InternetService</th>\n",
       "      <th>OnlineSecurity</th>\n",
       "      <th>OnlineBackup</th>\n",
       "      <th>DeviceProtection</th>\n",
       "      <th>TechSupport</th>\n",
       "      <th>StreamingTV</th>\n",
       "      <th>StreamingMovies</th>\n",
       "    </tr>\n",
       "  </thead>\n",
       "  <tbody>\n",
       "    <tr>\n",
       "      <th>0</th>\n",
       "      <td>7590-VHVEG</td>\n",
       "      <td>DSL</td>\n",
       "      <td>No</td>\n",
       "      <td>Yes</td>\n",
       "      <td>No</td>\n",
       "      <td>No</td>\n",
       "      <td>No</td>\n",
       "      <td>No</td>\n",
       "    </tr>\n",
       "    <tr>\n",
       "      <th>1</th>\n",
       "      <td>5575-GNVDE</td>\n",
       "      <td>DSL</td>\n",
       "      <td>Yes</td>\n",
       "      <td>No</td>\n",
       "      <td>Yes</td>\n",
       "      <td>No</td>\n",
       "      <td>No</td>\n",
       "      <td>No</td>\n",
       "    </tr>\n",
       "    <tr>\n",
       "      <th>2</th>\n",
       "      <td>3668-QPYBK</td>\n",
       "      <td>DSL</td>\n",
       "      <td>Yes</td>\n",
       "      <td>Yes</td>\n",
       "      <td>No</td>\n",
       "      <td>No</td>\n",
       "      <td>No</td>\n",
       "      <td>No</td>\n",
       "    </tr>\n",
       "    <tr>\n",
       "      <th>3</th>\n",
       "      <td>7795-CFOCW</td>\n",
       "      <td>DSL</td>\n",
       "      <td>Yes</td>\n",
       "      <td>No</td>\n",
       "      <td>Yes</td>\n",
       "      <td>Yes</td>\n",
       "      <td>No</td>\n",
       "      <td>No</td>\n",
       "    </tr>\n",
       "    <tr>\n",
       "      <th>4</th>\n",
       "      <td>9237-HQITU</td>\n",
       "      <td>Fiber optic</td>\n",
       "      <td>No</td>\n",
       "      <td>No</td>\n",
       "      <td>No</td>\n",
       "      <td>No</td>\n",
       "      <td>No</td>\n",
       "      <td>No</td>\n",
       "    </tr>\n",
       "  </tbody>\n",
       "</table>\n",
       "</div>"
      ],
      "text/plain": [
       "   customerID InternetService OnlineSecurity OnlineBackup DeviceProtection  \\\n",
       "0  7590-VHVEG             DSL             No          Yes               No   \n",
       "1  5575-GNVDE             DSL            Yes           No              Yes   \n",
       "2  3668-QPYBK             DSL            Yes          Yes               No   \n",
       "3  7795-CFOCW             DSL            Yes           No              Yes   \n",
       "4  9237-HQITU     Fiber optic             No           No               No   \n",
       "\n",
       "  TechSupport StreamingTV StreamingMovies  \n",
       "0          No          No              No  \n",
       "1          No          No              No  \n",
       "2          No          No              No  \n",
       "3         Yes          No              No  \n",
       "4          No          No              No  "
      ]
     },
     "metadata": {},
     "output_type": "display_data"
    },
    {
     "name": "stdout",
     "output_type": "stream",
     "text": [
      "<class 'pandas.core.frame.DataFrame'>\n",
      "RangeIndex: 5517 entries, 0 to 5516\n",
      "Data columns (total 8 columns):\n",
      " #   Column            Non-Null Count  Dtype \n",
      "---  ------            --------------  ----- \n",
      " 0   customerID        5517 non-null   object\n",
      " 1   InternetService   5517 non-null   object\n",
      " 2   OnlineSecurity    5517 non-null   object\n",
      " 3   OnlineBackup      5517 non-null   object\n",
      " 4   DeviceProtection  5517 non-null   object\n",
      " 5   TechSupport       5517 non-null   object\n",
      " 6   StreamingTV       5517 non-null   object\n",
      " 7   StreamingMovies   5517 non-null   object\n",
      "dtypes: object(8)\n",
      "memory usage: 344.9+ KB\n"
     ]
    },
    {
     "data": {
      "text/plain": [
       "None"
      ]
     },
     "metadata": {},
     "output_type": "display_data"
    },
    {
     "data": {
      "text/markdown": [
       "**Статистика по данным:**"
      ],
      "text/plain": [
       "<IPython.core.display.Markdown object>"
      ]
     },
     "metadata": {},
     "output_type": "display_data"
    },
    {
     "data": {
      "text/html": [
       "<div>\n",
       "<style scoped>\n",
       "    .dataframe tbody tr th:only-of-type {\n",
       "        vertical-align: middle;\n",
       "    }\n",
       "\n",
       "    .dataframe tbody tr th {\n",
       "        vertical-align: top;\n",
       "    }\n",
       "\n",
       "    .dataframe thead th {\n",
       "        text-align: right;\n",
       "    }\n",
       "</style>\n",
       "<table border=\"1\" class=\"dataframe\">\n",
       "  <thead>\n",
       "    <tr style=\"text-align: right;\">\n",
       "      <th></th>\n",
       "      <th>customerID</th>\n",
       "      <th>InternetService</th>\n",
       "      <th>OnlineSecurity</th>\n",
       "      <th>OnlineBackup</th>\n",
       "      <th>DeviceProtection</th>\n",
       "      <th>TechSupport</th>\n",
       "      <th>StreamingTV</th>\n",
       "      <th>StreamingMovies</th>\n",
       "    </tr>\n",
       "  </thead>\n",
       "  <tbody>\n",
       "    <tr>\n",
       "      <th>count</th>\n",
       "      <td>5517</td>\n",
       "      <td>5517</td>\n",
       "      <td>5517</td>\n",
       "      <td>5517</td>\n",
       "      <td>5517</td>\n",
       "      <td>5517</td>\n",
       "      <td>5517</td>\n",
       "      <td>5517</td>\n",
       "    </tr>\n",
       "    <tr>\n",
       "      <th>unique</th>\n",
       "      <td>5517</td>\n",
       "      <td>2</td>\n",
       "      <td>2</td>\n",
       "      <td>2</td>\n",
       "      <td>2</td>\n",
       "      <td>2</td>\n",
       "      <td>2</td>\n",
       "      <td>2</td>\n",
       "    </tr>\n",
       "    <tr>\n",
       "      <th>top</th>\n",
       "      <td>7590-VHVEG</td>\n",
       "      <td>Fiber optic</td>\n",
       "      <td>No</td>\n",
       "      <td>No</td>\n",
       "      <td>No</td>\n",
       "      <td>No</td>\n",
       "      <td>No</td>\n",
       "      <td>No</td>\n",
       "    </tr>\n",
       "    <tr>\n",
       "      <th>freq</th>\n",
       "      <td>1</td>\n",
       "      <td>3096</td>\n",
       "      <td>3498</td>\n",
       "      <td>3088</td>\n",
       "      <td>3095</td>\n",
       "      <td>3473</td>\n",
       "      <td>2810</td>\n",
       "      <td>2785</td>\n",
       "    </tr>\n",
       "  </tbody>\n",
       "</table>\n",
       "</div>"
      ],
      "text/plain": [
       "        customerID InternetService OnlineSecurity OnlineBackup  \\\n",
       "count         5517            5517           5517         5517   \n",
       "unique        5517               2              2            2   \n",
       "top     7590-VHVEG     Fiber optic             No           No   \n",
       "freq             1            3096           3498         3088   \n",
       "\n",
       "       DeviceProtection TechSupport StreamingTV StreamingMovies  \n",
       "count              5517        5517        5517            5517  \n",
       "unique                2           2           2               2  \n",
       "top                  No          No          No              No  \n",
       "freq               3095        3473        2810            2785  "
      ]
     },
     "metadata": {},
     "output_type": "display_data"
    },
    {
     "data": {
      "text/markdown": [
       "**Таблица корреляции:**"
      ],
      "text/plain": [
       "<IPython.core.display.Markdown object>"
      ]
     },
     "metadata": {},
     "output_type": "display_data"
    },
    {
     "data": {
      "text/html": [
       "<div>\n",
       "<style scoped>\n",
       "    .dataframe tbody tr th:only-of-type {\n",
       "        vertical-align: middle;\n",
       "    }\n",
       "\n",
       "    .dataframe tbody tr th {\n",
       "        vertical-align: top;\n",
       "    }\n",
       "\n",
       "    .dataframe thead th {\n",
       "        text-align: right;\n",
       "    }\n",
       "</style>\n",
       "<table border=\"1\" class=\"dataframe\">\n",
       "  <thead>\n",
       "    <tr style=\"text-align: right;\">\n",
       "      <th></th>\n",
       "    </tr>\n",
       "  </thead>\n",
       "  <tbody>\n",
       "  </tbody>\n",
       "</table>\n",
       "</div>"
      ],
      "text/plain": [
       "Empty DataFrame\n",
       "Columns: []\n",
       "Index: []"
      ]
     },
     "metadata": {},
     "output_type": "display_data"
    },
    {
     "data": {
      "text/markdown": [
       "**Размер данных:**"
      ],
      "text/plain": [
       "<IPython.core.display.Markdown object>"
      ]
     },
     "metadata": {},
     "output_type": "display_data"
    },
    {
     "data": {
      "text/plain": [
       "(5517, 8)"
      ]
     },
     "metadata": {},
     "output_type": "display_data"
    }
   ],
   "source": [
    "try:\n",
    "    internet_df = pd_read('C://Users//SpecialOne//data_science//datasets//final_provider//internet.csv')\n",
    "except ImportError:\n",
    "    internet_df = pd_read('/datasets/final_provider/internet.csv')\n",
    "except FileNotFoundError:\n",
    "    internet_df = pd_read('/datasets/final_provider/internet.csv')"
   ]
  },
  {
   "cell_type": "code",
   "execution_count": 7,
   "id": "2ef7f808",
   "metadata": {},
   "outputs": [
    {
     "data": {
      "text/plain": [
       "Fiber optic    3096\n",
       "DSL            2421\n",
       "Name: InternetService, dtype: int64"
      ]
     },
     "metadata": {},
     "output_type": "display_data"
    },
    {
     "data": {
      "text/plain": [
       "No     3498\n",
       "Yes    2019\n",
       "Name: OnlineSecurity, dtype: int64"
      ]
     },
     "metadata": {},
     "output_type": "display_data"
    },
    {
     "data": {
      "text/plain": [
       "No     3088\n",
       "Yes    2429\n",
       "Name: OnlineBackup, dtype: int64"
      ]
     },
     "metadata": {},
     "output_type": "display_data"
    },
    {
     "data": {
      "text/plain": [
       "No     3095\n",
       "Yes    2422\n",
       "Name: DeviceProtection, dtype: int64"
      ]
     },
     "metadata": {},
     "output_type": "display_data"
    },
    {
     "data": {
      "text/plain": [
       "No     3473\n",
       "Yes    2044\n",
       "Name: TechSupport, dtype: int64"
      ]
     },
     "metadata": {},
     "output_type": "display_data"
    },
    {
     "data": {
      "text/plain": [
       "No     2810\n",
       "Yes    2707\n",
       "Name: StreamingTV, dtype: int64"
      ]
     },
     "metadata": {},
     "output_type": "display_data"
    },
    {
     "data": {
      "text/plain": [
       "No     2785\n",
       "Yes    2732\n",
       "Name: StreamingMovies, dtype: int64"
      ]
     },
     "metadata": {},
     "output_type": "display_data"
    },
    {
     "data": {
      "text/plain": [
       "[None, None, None, None, None, None, None]"
      ]
     },
     "execution_count": 7,
     "metadata": {},
     "output_type": "execute_result"
    }
   ],
   "source": [
    "[display(x.value_counts()) for x in [internet_df['InternetService'], \n",
    "                                     internet_df['OnlineSecurity'], \n",
    "                                     internet_df['OnlineBackup'],\n",
    "                                     internet_df['DeviceProtection'],\n",
    "                                     internet_df['TechSupport'],\n",
    "                                     internet_df['StreamingTV'],\n",
    "                                     internet_df['StreamingMovies']]]"
   ]
  },
  {
   "cell_type": "markdown",
   "id": "40c76cc4",
   "metadata": {},
   "source": [
    "Данные с деталями интернет-услуг. Преимущественно распределены равномерно, откровенного дисбаланса нет."
   ]
  },
  {
   "cell_type": "code",
   "execution_count": 5,
   "id": "2ceb3c52",
   "metadata": {},
   "outputs": [
    {
     "data": {
      "text/markdown": [
       "**Первые пять записей и общая информация по таблице:**"
      ],
      "text/plain": [
       "<IPython.core.display.Markdown object>"
      ]
     },
     "metadata": {},
     "output_type": "display_data"
    },
    {
     "data": {
      "text/html": [
       "<div>\n",
       "<style scoped>\n",
       "    .dataframe tbody tr th:only-of-type {\n",
       "        vertical-align: middle;\n",
       "    }\n",
       "\n",
       "    .dataframe tbody tr th {\n",
       "        vertical-align: top;\n",
       "    }\n",
       "\n",
       "    .dataframe thead th {\n",
       "        text-align: right;\n",
       "    }\n",
       "</style>\n",
       "<table border=\"1\" class=\"dataframe\">\n",
       "  <thead>\n",
       "    <tr style=\"text-align: right;\">\n",
       "      <th></th>\n",
       "      <th>customerID</th>\n",
       "      <th>gender</th>\n",
       "      <th>SeniorCitizen</th>\n",
       "      <th>Partner</th>\n",
       "      <th>Dependents</th>\n",
       "    </tr>\n",
       "  </thead>\n",
       "  <tbody>\n",
       "    <tr>\n",
       "      <th>0</th>\n",
       "      <td>7590-VHVEG</td>\n",
       "      <td>Female</td>\n",
       "      <td>0</td>\n",
       "      <td>Yes</td>\n",
       "      <td>No</td>\n",
       "    </tr>\n",
       "    <tr>\n",
       "      <th>1</th>\n",
       "      <td>5575-GNVDE</td>\n",
       "      <td>Male</td>\n",
       "      <td>0</td>\n",
       "      <td>No</td>\n",
       "      <td>No</td>\n",
       "    </tr>\n",
       "    <tr>\n",
       "      <th>2</th>\n",
       "      <td>3668-QPYBK</td>\n",
       "      <td>Male</td>\n",
       "      <td>0</td>\n",
       "      <td>No</td>\n",
       "      <td>No</td>\n",
       "    </tr>\n",
       "    <tr>\n",
       "      <th>3</th>\n",
       "      <td>7795-CFOCW</td>\n",
       "      <td>Male</td>\n",
       "      <td>0</td>\n",
       "      <td>No</td>\n",
       "      <td>No</td>\n",
       "    </tr>\n",
       "    <tr>\n",
       "      <th>4</th>\n",
       "      <td>9237-HQITU</td>\n",
       "      <td>Female</td>\n",
       "      <td>0</td>\n",
       "      <td>No</td>\n",
       "      <td>No</td>\n",
       "    </tr>\n",
       "  </tbody>\n",
       "</table>\n",
       "</div>"
      ],
      "text/plain": [
       "   customerID  gender  SeniorCitizen Partner Dependents\n",
       "0  7590-VHVEG  Female              0     Yes         No\n",
       "1  5575-GNVDE    Male              0      No         No\n",
       "2  3668-QPYBK    Male              0      No         No\n",
       "3  7795-CFOCW    Male              0      No         No\n",
       "4  9237-HQITU  Female              0      No         No"
      ]
     },
     "metadata": {},
     "output_type": "display_data"
    },
    {
     "name": "stdout",
     "output_type": "stream",
     "text": [
      "<class 'pandas.core.frame.DataFrame'>\n",
      "RangeIndex: 7043 entries, 0 to 7042\n",
      "Data columns (total 5 columns):\n",
      " #   Column         Non-Null Count  Dtype \n",
      "---  ------         --------------  ----- \n",
      " 0   customerID     7043 non-null   object\n",
      " 1   gender         7043 non-null   object\n",
      " 2   SeniorCitizen  7043 non-null   int64 \n",
      " 3   Partner        7043 non-null   object\n",
      " 4   Dependents     7043 non-null   object\n",
      "dtypes: int64(1), object(4)\n",
      "memory usage: 275.2+ KB\n"
     ]
    },
    {
     "data": {
      "text/plain": [
       "None"
      ]
     },
     "metadata": {},
     "output_type": "display_data"
    },
    {
     "data": {
      "text/markdown": [
       "**Статистика по данным:**"
      ],
      "text/plain": [
       "<IPython.core.display.Markdown object>"
      ]
     },
     "metadata": {},
     "output_type": "display_data"
    },
    {
     "data": {
      "text/html": [
       "<div>\n",
       "<style scoped>\n",
       "    .dataframe tbody tr th:only-of-type {\n",
       "        vertical-align: middle;\n",
       "    }\n",
       "\n",
       "    .dataframe tbody tr th {\n",
       "        vertical-align: top;\n",
       "    }\n",
       "\n",
       "    .dataframe thead th {\n",
       "        text-align: right;\n",
       "    }\n",
       "</style>\n",
       "<table border=\"1\" class=\"dataframe\">\n",
       "  <thead>\n",
       "    <tr style=\"text-align: right;\">\n",
       "      <th></th>\n",
       "      <th>customerID</th>\n",
       "      <th>gender</th>\n",
       "      <th>SeniorCitizen</th>\n",
       "      <th>Partner</th>\n",
       "      <th>Dependents</th>\n",
       "    </tr>\n",
       "  </thead>\n",
       "  <tbody>\n",
       "    <tr>\n",
       "      <th>count</th>\n",
       "      <td>7043</td>\n",
       "      <td>7043</td>\n",
       "      <td>7043.000000</td>\n",
       "      <td>7043</td>\n",
       "      <td>7043</td>\n",
       "    </tr>\n",
       "    <tr>\n",
       "      <th>unique</th>\n",
       "      <td>7043</td>\n",
       "      <td>2</td>\n",
       "      <td>NaN</td>\n",
       "      <td>2</td>\n",
       "      <td>2</td>\n",
       "    </tr>\n",
       "    <tr>\n",
       "      <th>top</th>\n",
       "      <td>7590-VHVEG</td>\n",
       "      <td>Male</td>\n",
       "      <td>NaN</td>\n",
       "      <td>No</td>\n",
       "      <td>No</td>\n",
       "    </tr>\n",
       "    <tr>\n",
       "      <th>freq</th>\n",
       "      <td>1</td>\n",
       "      <td>3555</td>\n",
       "      <td>NaN</td>\n",
       "      <td>3641</td>\n",
       "      <td>4933</td>\n",
       "    </tr>\n",
       "    <tr>\n",
       "      <th>mean</th>\n",
       "      <td>NaN</td>\n",
       "      <td>NaN</td>\n",
       "      <td>0.162147</td>\n",
       "      <td>NaN</td>\n",
       "      <td>NaN</td>\n",
       "    </tr>\n",
       "    <tr>\n",
       "      <th>std</th>\n",
       "      <td>NaN</td>\n",
       "      <td>NaN</td>\n",
       "      <td>0.368612</td>\n",
       "      <td>NaN</td>\n",
       "      <td>NaN</td>\n",
       "    </tr>\n",
       "    <tr>\n",
       "      <th>min</th>\n",
       "      <td>NaN</td>\n",
       "      <td>NaN</td>\n",
       "      <td>0.000000</td>\n",
       "      <td>NaN</td>\n",
       "      <td>NaN</td>\n",
       "    </tr>\n",
       "    <tr>\n",
       "      <th>25%</th>\n",
       "      <td>NaN</td>\n",
       "      <td>NaN</td>\n",
       "      <td>0.000000</td>\n",
       "      <td>NaN</td>\n",
       "      <td>NaN</td>\n",
       "    </tr>\n",
       "    <tr>\n",
       "      <th>50%</th>\n",
       "      <td>NaN</td>\n",
       "      <td>NaN</td>\n",
       "      <td>0.000000</td>\n",
       "      <td>NaN</td>\n",
       "      <td>NaN</td>\n",
       "    </tr>\n",
       "    <tr>\n",
       "      <th>75%</th>\n",
       "      <td>NaN</td>\n",
       "      <td>NaN</td>\n",
       "      <td>0.000000</td>\n",
       "      <td>NaN</td>\n",
       "      <td>NaN</td>\n",
       "    </tr>\n",
       "    <tr>\n",
       "      <th>max</th>\n",
       "      <td>NaN</td>\n",
       "      <td>NaN</td>\n",
       "      <td>1.000000</td>\n",
       "      <td>NaN</td>\n",
       "      <td>NaN</td>\n",
       "    </tr>\n",
       "  </tbody>\n",
       "</table>\n",
       "</div>"
      ],
      "text/plain": [
       "        customerID gender  SeniorCitizen Partner Dependents\n",
       "count         7043   7043    7043.000000    7043       7043\n",
       "unique        7043      2            NaN       2          2\n",
       "top     7590-VHVEG   Male            NaN      No         No\n",
       "freq             1   3555            NaN    3641       4933\n",
       "mean           NaN    NaN       0.162147     NaN        NaN\n",
       "std            NaN    NaN       0.368612     NaN        NaN\n",
       "min            NaN    NaN       0.000000     NaN        NaN\n",
       "25%            NaN    NaN       0.000000     NaN        NaN\n",
       "50%            NaN    NaN       0.000000     NaN        NaN\n",
       "75%            NaN    NaN       0.000000     NaN        NaN\n",
       "max            NaN    NaN       1.000000     NaN        NaN"
      ]
     },
     "metadata": {},
     "output_type": "display_data"
    },
    {
     "data": {
      "text/markdown": [
       "**Таблица корреляции:**"
      ],
      "text/plain": [
       "<IPython.core.display.Markdown object>"
      ]
     },
     "metadata": {},
     "output_type": "display_data"
    },
    {
     "data": {
      "text/html": [
       "<div>\n",
       "<style scoped>\n",
       "    .dataframe tbody tr th:only-of-type {\n",
       "        vertical-align: middle;\n",
       "    }\n",
       "\n",
       "    .dataframe tbody tr th {\n",
       "        vertical-align: top;\n",
       "    }\n",
       "\n",
       "    .dataframe thead th {\n",
       "        text-align: right;\n",
       "    }\n",
       "</style>\n",
       "<table border=\"1\" class=\"dataframe\">\n",
       "  <thead>\n",
       "    <tr style=\"text-align: right;\">\n",
       "      <th></th>\n",
       "      <th>SeniorCitizen</th>\n",
       "    </tr>\n",
       "  </thead>\n",
       "  <tbody>\n",
       "    <tr>\n",
       "      <th>SeniorCitizen</th>\n",
       "      <td>1.0</td>\n",
       "    </tr>\n",
       "  </tbody>\n",
       "</table>\n",
       "</div>"
      ],
      "text/plain": [
       "               SeniorCitizen\n",
       "SeniorCitizen            1.0"
      ]
     },
     "metadata": {},
     "output_type": "display_data"
    },
    {
     "data": {
      "text/markdown": [
       "**Размер данных:**"
      ],
      "text/plain": [
       "<IPython.core.display.Markdown object>"
      ]
     },
     "metadata": {},
     "output_type": "display_data"
    },
    {
     "data": {
      "text/plain": [
       "(7043, 5)"
      ]
     },
     "metadata": {},
     "output_type": "display_data"
    }
   ],
   "source": [
    "try:\n",
    "    personal_df = pd_read('C://Users//SpecialOne//data_science//datasets//final_provider//personal.csv')\n",
    "except ImportError:\n",
    "    personal_df = pd_read('/datasets/final_provider/personal.csv')\n",
    "except FileNotFoundError:\n",
    "    personal_df = pd_read('/datasets/final_provider/personal.csv')"
   ]
  },
  {
   "cell_type": "markdown",
   "id": "7313ece2",
   "metadata": {},
   "source": [
    "В данном датафрейме содержится информация о личном статусе клиента: бинарно размеченные данные о поле, пенсионер ли он, о партнере и о наличии иждевенцев."
   ]
  },
  {
   "cell_type": "code",
   "execution_count": 6,
   "id": "4fe47c1c",
   "metadata": {},
   "outputs": [
    {
     "data": {
      "text/markdown": [
       "**Первые пять записей и общая информация по таблице:**"
      ],
      "text/plain": [
       "<IPython.core.display.Markdown object>"
      ]
     },
     "metadata": {},
     "output_type": "display_data"
    },
    {
     "data": {
      "text/html": [
       "<div>\n",
       "<style scoped>\n",
       "    .dataframe tbody tr th:only-of-type {\n",
       "        vertical-align: middle;\n",
       "    }\n",
       "\n",
       "    .dataframe tbody tr th {\n",
       "        vertical-align: top;\n",
       "    }\n",
       "\n",
       "    .dataframe thead th {\n",
       "        text-align: right;\n",
       "    }\n",
       "</style>\n",
       "<table border=\"1\" class=\"dataframe\">\n",
       "  <thead>\n",
       "    <tr style=\"text-align: right;\">\n",
       "      <th></th>\n",
       "      <th>customerID</th>\n",
       "      <th>MultipleLines</th>\n",
       "    </tr>\n",
       "  </thead>\n",
       "  <tbody>\n",
       "    <tr>\n",
       "      <th>0</th>\n",
       "      <td>5575-GNVDE</td>\n",
       "      <td>No</td>\n",
       "    </tr>\n",
       "    <tr>\n",
       "      <th>1</th>\n",
       "      <td>3668-QPYBK</td>\n",
       "      <td>No</td>\n",
       "    </tr>\n",
       "    <tr>\n",
       "      <th>2</th>\n",
       "      <td>9237-HQITU</td>\n",
       "      <td>No</td>\n",
       "    </tr>\n",
       "    <tr>\n",
       "      <th>3</th>\n",
       "      <td>9305-CDSKC</td>\n",
       "      <td>Yes</td>\n",
       "    </tr>\n",
       "    <tr>\n",
       "      <th>4</th>\n",
       "      <td>1452-KIOVK</td>\n",
       "      <td>Yes</td>\n",
       "    </tr>\n",
       "  </tbody>\n",
       "</table>\n",
       "</div>"
      ],
      "text/plain": [
       "   customerID MultipleLines\n",
       "0  5575-GNVDE            No\n",
       "1  3668-QPYBK            No\n",
       "2  9237-HQITU            No\n",
       "3  9305-CDSKC           Yes\n",
       "4  1452-KIOVK           Yes"
      ]
     },
     "metadata": {},
     "output_type": "display_data"
    },
    {
     "name": "stdout",
     "output_type": "stream",
     "text": [
      "<class 'pandas.core.frame.DataFrame'>\n",
      "RangeIndex: 6361 entries, 0 to 6360\n",
      "Data columns (total 2 columns):\n",
      " #   Column         Non-Null Count  Dtype \n",
      "---  ------         --------------  ----- \n",
      " 0   customerID     6361 non-null   object\n",
      " 1   MultipleLines  6361 non-null   object\n",
      "dtypes: object(2)\n",
      "memory usage: 99.5+ KB\n"
     ]
    },
    {
     "data": {
      "text/plain": [
       "None"
      ]
     },
     "metadata": {},
     "output_type": "display_data"
    },
    {
     "data": {
      "text/markdown": [
       "**Статистика по данным:**"
      ],
      "text/plain": [
       "<IPython.core.display.Markdown object>"
      ]
     },
     "metadata": {},
     "output_type": "display_data"
    },
    {
     "data": {
      "text/html": [
       "<div>\n",
       "<style scoped>\n",
       "    .dataframe tbody tr th:only-of-type {\n",
       "        vertical-align: middle;\n",
       "    }\n",
       "\n",
       "    .dataframe tbody tr th {\n",
       "        vertical-align: top;\n",
       "    }\n",
       "\n",
       "    .dataframe thead th {\n",
       "        text-align: right;\n",
       "    }\n",
       "</style>\n",
       "<table border=\"1\" class=\"dataframe\">\n",
       "  <thead>\n",
       "    <tr style=\"text-align: right;\">\n",
       "      <th></th>\n",
       "      <th>customerID</th>\n",
       "      <th>MultipleLines</th>\n",
       "    </tr>\n",
       "  </thead>\n",
       "  <tbody>\n",
       "    <tr>\n",
       "      <th>count</th>\n",
       "      <td>6361</td>\n",
       "      <td>6361</td>\n",
       "    </tr>\n",
       "    <tr>\n",
       "      <th>unique</th>\n",
       "      <td>6361</td>\n",
       "      <td>2</td>\n",
       "    </tr>\n",
       "    <tr>\n",
       "      <th>top</th>\n",
       "      <td>5575-GNVDE</td>\n",
       "      <td>No</td>\n",
       "    </tr>\n",
       "    <tr>\n",
       "      <th>freq</th>\n",
       "      <td>1</td>\n",
       "      <td>3390</td>\n",
       "    </tr>\n",
       "  </tbody>\n",
       "</table>\n",
       "</div>"
      ],
      "text/plain": [
       "        customerID MultipleLines\n",
       "count         6361          6361\n",
       "unique        6361             2\n",
       "top     5575-GNVDE            No\n",
       "freq             1          3390"
      ]
     },
     "metadata": {},
     "output_type": "display_data"
    },
    {
     "data": {
      "text/markdown": [
       "**Таблица корреляции:**"
      ],
      "text/plain": [
       "<IPython.core.display.Markdown object>"
      ]
     },
     "metadata": {},
     "output_type": "display_data"
    },
    {
     "data": {
      "text/html": [
       "<div>\n",
       "<style scoped>\n",
       "    .dataframe tbody tr th:only-of-type {\n",
       "        vertical-align: middle;\n",
       "    }\n",
       "\n",
       "    .dataframe tbody tr th {\n",
       "        vertical-align: top;\n",
       "    }\n",
       "\n",
       "    .dataframe thead th {\n",
       "        text-align: right;\n",
       "    }\n",
       "</style>\n",
       "<table border=\"1\" class=\"dataframe\">\n",
       "  <thead>\n",
       "    <tr style=\"text-align: right;\">\n",
       "      <th></th>\n",
       "    </tr>\n",
       "  </thead>\n",
       "  <tbody>\n",
       "  </tbody>\n",
       "</table>\n",
       "</div>"
      ],
      "text/plain": [
       "Empty DataFrame\n",
       "Columns: []\n",
       "Index: []"
      ]
     },
     "metadata": {},
     "output_type": "display_data"
    },
    {
     "data": {
      "text/markdown": [
       "**Размер данных:**"
      ],
      "text/plain": [
       "<IPython.core.display.Markdown object>"
      ]
     },
     "metadata": {},
     "output_type": "display_data"
    },
    {
     "data": {
      "text/plain": [
       "(6361, 2)"
      ]
     },
     "metadata": {},
     "output_type": "display_data"
    }
   ],
   "source": [
    "try:\n",
    "    phone_df = pd_read('C://Users//SpecialOne//data_science//datasets//final_provider//phone.csv')\n",
    "except ImportError:\n",
    "    phone_df = pd_read('/datasets/final_provider/phone.csv')\n",
    "except FileNotFoundError:\n",
    "    phone_df = pd_read('/datasets/final_provider/phone.csv')"
   ]
  },
  {
   "cell_type": "code",
   "execution_count": 10,
   "id": "4d1aefa8",
   "metadata": {},
   "outputs": [
    {
     "data": {
      "image/png": "[encoded data removed]",
      "text/plain": [
       "<Figure size 432x432 with 1 Axes>"
      ]
     },
     "metadata": {
      "needs_background": "light"
     },
     "output_type": "display_data"
    }
   ],
   "source": [
    "g = sns.displot(phone_df['MultipleLines']\n",
    "           )\n",
    "g.fig.set_figheight(6)\n",
    "g.fig.set_figwidth(6)"
   ]
  },
  {
   "cell_type": "code",
   "execution_count": 11,
   "id": "270a8b75",
   "metadata": {},
   "outputs": [
    {
     "data": {
      "text/plain": [
       "No     3390\n",
       "Yes    2971\n",
       "Name: MultipleLines, dtype: int64"
      ]
     },
     "execution_count": 11,
     "metadata": {},
     "output_type": "execute_result"
    }
   ],
   "source": [
    "phone_df['MultipleLines'].value_counts()"
   ]
  },
  {
   "cell_type": "markdown",
   "id": "eaac104c",
   "metadata": {},
   "source": [
    "В данном наборе информация о телефонном тарифе клиента, признак `MultipleLines` классифицирован почти равномерно. "
   ]
  },
  {
   "cell_type": "markdown",
   "id": "f57a4983",
   "metadata": {},
   "source": [
    "**Вывод:** данные загружены и уже можно сделать небольшой вывод о том, что необходима предобработка. Большое количество признаков представлены в формате `Yes/No`, что не очень удобно для работы с ними в дальнейшем. Также предстоит изменить типы данных большинства признаков, которые представлены типом `object`.\n",
    "\n",
    "Составим предварительный план:\n",
    "\n",
    "1. **Первичный анализ и разработка плана работы:** \n",
    "\n",
    " 1. Загрузка и составление представления о данных. \n",
    " 2. Обозначение дальнейших шагов в работе.\n",
    " \n",
    " \n",
    "2. **Уточнение задачи:** \n",
    "    1. Составление списка уточняющих вопросов к тимлиду, с целью дополнить информацию о задаче.\n",
    "\n",
    "\n",
    "3. **Предобработка данных:** \n",
    "    1. Устранение ошибок в исходных данных и приведение их в необходимый для разработки модели вид.\n",
    "\n",
    "\n",
    "4. **Разработка модели:** \n",
    "    1. Применение и выбор лучшей модели машинного обучения или глубокого обучения в рамках данной задачи.\n",
    "    \n",
    "    \n",
    "5. **Итоговый отчет:** \n",
    "  1. Доведение выводов о работе для заказчика."
   ]
  },
  {
   "cell_type": "markdown",
   "id": "49be6f72",
   "metadata": {},
   "source": [
    "## Уточнение задачи"
   ]
  },
  {
   "cell_type": "markdown",
   "id": "5221a3c8",
   "metadata": {},
   "source": [
    "Некоторые из деталей после первичного анализа данным остаются неизвестными. Составим список основых уточненяющих вопросов:\n",
    "\n",
    "1. Каким образом оценивается модель: какие метрики и их пороги котируются в рамках данной задачи?\n",
    "2. Вопрос о разработке модели. В рамках задачи, мы планируем валидировать несколько моделей машинного обучения и выбрать лучшую. Необходимо ли предоставлять отчет о работе всех тестируемых моделей или достаточно остановится на лучшей?\n",
    "3. Есть ли у компании возможности внедрять модели глубокого обучения или в рамках задачи нейросети не стоит рассматривать?\n",
    "4. Мы планируем разделить данные для обучения в пропорции 80/10/10. Является ли такой вариант сплита нормальным для заказчика или у него есть собственные нормативы?"
   ]
  },
  {
   "cell_type": "markdown",
   "id": "4a3fa474",
   "metadata": {},
   "source": [
    "## Предобработка данных"
   ]
  },
  {
   "cell_type": "markdown",
   "id": "d48c60ad",
   "metadata": {},
   "source": [
    "Проверим датафреймы на наличие явных пропусков и дубликатов:"
   ]
  },
  {
   "cell_type": "code",
   "execution_count": 7,
   "id": "1c0fc98d",
   "metadata": {
    "scrolled": true
   },
   "outputs": [
    {
     "data": {
      "text/markdown": [
       "**Количество пропусков:**"
      ],
      "text/plain": [
       "<IPython.core.display.Markdown object>"
      ]
     },
     "metadata": {},
     "output_type": "display_data"
    },
    {
     "data": {
      "text/plain": [
       "customerID          0\n",
       "BeginDate           0\n",
       "EndDate             0\n",
       "Type                0\n",
       "PaperlessBilling    0\n",
       "PaymentMethod       0\n",
       "MonthlyCharges      0\n",
       "TotalCharges        0\n",
       "dtype: int64"
      ]
     },
     "metadata": {},
     "output_type": "display_data"
    },
    {
     "data": {
      "text/markdown": [
       "**Количество дубликатов:**"
      ],
      "text/plain": [
       "<IPython.core.display.Markdown object>"
      ]
     },
     "metadata": {},
     "output_type": "display_data"
    },
    {
     "data": {
      "text/plain": [
       "0"
      ]
     },
     "metadata": {},
     "output_type": "display_data"
    },
    {
     "data": {
      "text/markdown": [
       "**Количество пропусков:**"
      ],
      "text/plain": [
       "<IPython.core.display.Markdown object>"
      ]
     },
     "metadata": {},
     "output_type": "display_data"
    },
    {
     "data": {
      "text/plain": [
       "customerID          0\n",
       "InternetService     0\n",
       "OnlineSecurity      0\n",
       "OnlineBackup        0\n",
       "DeviceProtection    0\n",
       "TechSupport         0\n",
       "StreamingTV         0\n",
       "StreamingMovies     0\n",
       "dtype: int64"
      ]
     },
     "metadata": {},
     "output_type": "display_data"
    },
    {
     "data": {
      "text/markdown": [
       "**Количество дубликатов:**"
      ],
      "text/plain": [
       "<IPython.core.display.Markdown object>"
      ]
     },
     "metadata": {},
     "output_type": "display_data"
    },
    {
     "data": {
      "text/plain": [
       "0"
      ]
     },
     "metadata": {},
     "output_type": "display_data"
    },
    {
     "data": {
      "text/markdown": [
       "**Количество пропусков:**"
      ],
      "text/plain": [
       "<IPython.core.display.Markdown object>"
      ]
     },
     "metadata": {},
     "output_type": "display_data"
    },
    {
     "data": {
      "text/plain": [
       "customerID       0\n",
       "MultipleLines    0\n",
       "dtype: int64"
      ]
     },
     "metadata": {},
     "output_type": "display_data"
    },
    {
     "data": {
      "text/markdown": [
       "**Количество дубликатов:**"
      ],
      "text/plain": [
       "<IPython.core.display.Markdown object>"
      ]
     },
     "metadata": {},
     "output_type": "display_data"
    },
    {
     "data": {
      "text/plain": [
       "0"
      ]
     },
     "metadata": {},
     "output_type": "display_data"
    },
    {
     "data": {
      "text/markdown": [
       "**Количество пропусков:**"
      ],
      "text/plain": [
       "<IPython.core.display.Markdown object>"
      ]
     },
     "metadata": {},
     "output_type": "display_data"
    },
    {
     "data": {
      "text/plain": [
       "customerID       0\n",
       "gender           0\n",
       "SeniorCitizen    0\n",
       "Partner          0\n",
       "Dependents       0\n",
       "dtype: int64"
      ]
     },
     "metadata": {},
     "output_type": "display_data"
    },
    {
     "data": {
      "text/markdown": [
       "**Количество дубликатов:**"
      ],
      "text/plain": [
       "<IPython.core.display.Markdown object>"
      ]
     },
     "metadata": {},
     "output_type": "display_data"
    },
    {
     "data": {
      "text/plain": [
       "0"
      ]
     },
     "metadata": {},
     "output_type": "display_data"
    }
   ],
   "source": [
    "for i in [contract_df, internet_df, phone_df, personal_df]:\n",
    "    display(Markdown('**Количество пропусков:**'), i.isna().sum())\n",
    "    display(Markdown('**Количество дубликатов:**'), i.duplicated().sum())"
   ]
  },
  {
   "cell_type": "markdown",
   "id": "6907ec5d",
   "metadata": {},
   "source": [
    "### Обработка данных договора (contract_df)"
   ]
  },
  {
   "cell_type": "code",
   "execution_count": 13,
   "id": "bb07f924",
   "metadata": {},
   "outputs": [],
   "source": [
    "cdf = contract_df.copy()"
   ]
  },
  {
   "cell_type": "markdown",
   "id": "87991f33",
   "metadata": {},
   "source": [
    "В данных есть скрытые пропуски в признаке `TotalCharges`:"
   ]
  },
  {
   "cell_type": "code",
   "execution_count": 14,
   "id": "7af27a86",
   "metadata": {
    "scrolled": false
   },
   "outputs": [
    {
     "data": {
      "text/html": [
       "<div>\n",
       "<style scoped>\n",
       "    .dataframe tbody tr th:only-of-type {\n",
       "        vertical-align: middle;\n",
       "    }\n",
       "\n",
       "    .dataframe tbody tr th {\n",
       "        vertical-align: top;\n",
       "    }\n",
       "\n",
       "    .dataframe thead th {\n",
       "        text-align: right;\n",
       "    }\n",
       "</style>\n",
       "<table border=\"1\" class=\"dataframe\">\n",
       "  <thead>\n",
       "    <tr style=\"text-align: right;\">\n",
       "      <th></th>\n",
       "      <th>customerID</th>\n",
       "      <th>BeginDate</th>\n",
       "      <th>EndDate</th>\n",
       "      <th>Type</th>\n",
       "      <th>PaperlessBilling</th>\n",
       "      <th>PaymentMethod</th>\n",
       "      <th>MonthlyCharges</th>\n",
       "      <th>TotalCharges</th>\n",
       "    </tr>\n",
       "  </thead>\n",
       "  <tbody>\n",
       "    <tr>\n",
       "      <th>488</th>\n",
       "      <td>4472-LVYGI</td>\n",
       "      <td>2020-02-01</td>\n",
       "      <td>No</td>\n",
       "      <td>Two year</td>\n",
       "      <td>Yes</td>\n",
       "      <td>Bank transfer (automatic)</td>\n",
       "      <td>52.55</td>\n",
       "      <td></td>\n",
       "    </tr>\n",
       "    <tr>\n",
       "      <th>753</th>\n",
       "      <td>3115-CZMZD</td>\n",
       "      <td>2020-02-01</td>\n",
       "      <td>No</td>\n",
       "      <td>Two year</td>\n",
       "      <td>No</td>\n",
       "      <td>Mailed check</td>\n",
       "      <td>20.25</td>\n",
       "      <td></td>\n",
       "    </tr>\n",
       "    <tr>\n",
       "      <th>936</th>\n",
       "      <td>5709-LVOEQ</td>\n",
       "      <td>2020-02-01</td>\n",
       "      <td>No</td>\n",
       "      <td>Two year</td>\n",
       "      <td>No</td>\n",
       "      <td>Mailed check</td>\n",
       "      <td>80.85</td>\n",
       "      <td></td>\n",
       "    </tr>\n",
       "    <tr>\n",
       "      <th>1082</th>\n",
       "      <td>4367-NUYAO</td>\n",
       "      <td>2020-02-01</td>\n",
       "      <td>No</td>\n",
       "      <td>Two year</td>\n",
       "      <td>No</td>\n",
       "      <td>Mailed check</td>\n",
       "      <td>25.75</td>\n",
       "      <td></td>\n",
       "    </tr>\n",
       "    <tr>\n",
       "      <th>1340</th>\n",
       "      <td>1371-DWPAZ</td>\n",
       "      <td>2020-02-01</td>\n",
       "      <td>No</td>\n",
       "      <td>Two year</td>\n",
       "      <td>No</td>\n",
       "      <td>Credit card (automatic)</td>\n",
       "      <td>56.05</td>\n",
       "      <td></td>\n",
       "    </tr>\n",
       "    <tr>\n",
       "      <th>3331</th>\n",
       "      <td>7644-OMVMY</td>\n",
       "      <td>2020-02-01</td>\n",
       "      <td>No</td>\n",
       "      <td>Two year</td>\n",
       "      <td>No</td>\n",
       "      <td>Mailed check</td>\n",
       "      <td>19.85</td>\n",
       "      <td></td>\n",
       "    </tr>\n",
       "    <tr>\n",
       "      <th>3826</th>\n",
       "      <td>3213-VVOLG</td>\n",
       "      <td>2020-02-01</td>\n",
       "      <td>No</td>\n",
       "      <td>Two year</td>\n",
       "      <td>No</td>\n",
       "      <td>Mailed check</td>\n",
       "      <td>25.35</td>\n",
       "      <td></td>\n",
       "    </tr>\n",
       "    <tr>\n",
       "      <th>4380</th>\n",
       "      <td>2520-SGTTA</td>\n",
       "      <td>2020-02-01</td>\n",
       "      <td>No</td>\n",
       "      <td>Two year</td>\n",
       "      <td>No</td>\n",
       "      <td>Mailed check</td>\n",
       "      <td>20.00</td>\n",
       "      <td></td>\n",
       "    </tr>\n",
       "    <tr>\n",
       "      <th>5218</th>\n",
       "      <td>2923-ARZLG</td>\n",
       "      <td>2020-02-01</td>\n",
       "      <td>No</td>\n",
       "      <td>One year</td>\n",
       "      <td>Yes</td>\n",
       "      <td>Mailed check</td>\n",
       "      <td>19.70</td>\n",
       "      <td></td>\n",
       "    </tr>\n",
       "    <tr>\n",
       "      <th>6670</th>\n",
       "      <td>4075-WKNIU</td>\n",
       "      <td>2020-02-01</td>\n",
       "      <td>No</td>\n",
       "      <td>Two year</td>\n",
       "      <td>No</td>\n",
       "      <td>Mailed check</td>\n",
       "      <td>73.35</td>\n",
       "      <td></td>\n",
       "    </tr>\n",
       "    <tr>\n",
       "      <th>6754</th>\n",
       "      <td>2775-SEFEE</td>\n",
       "      <td>2020-02-01</td>\n",
       "      <td>No</td>\n",
       "      <td>Two year</td>\n",
       "      <td>Yes</td>\n",
       "      <td>Bank transfer (automatic)</td>\n",
       "      <td>61.90</td>\n",
       "      <td></td>\n",
       "    </tr>\n",
       "  </tbody>\n",
       "</table>\n",
       "</div>"
      ],
      "text/plain": [
       "      customerID   BeginDate EndDate      Type PaperlessBilling  \\\n",
       "488   4472-LVYGI  2020-02-01      No  Two year              Yes   \n",
       "753   3115-CZMZD  2020-02-01      No  Two year               No   \n",
       "936   5709-LVOEQ  2020-02-01      No  Two year               No   \n",
       "1082  4367-NUYAO  2020-02-01      No  Two year               No   \n",
       "1340  1371-DWPAZ  2020-02-01      No  Two year               No   \n",
       "3331  7644-OMVMY  2020-02-01      No  Two year               No   \n",
       "3826  3213-VVOLG  2020-02-01      No  Two year               No   \n",
       "4380  2520-SGTTA  2020-02-01      No  Two year               No   \n",
       "5218  2923-ARZLG  2020-02-01      No  One year              Yes   \n",
       "6670  4075-WKNIU  2020-02-01      No  Two year               No   \n",
       "6754  2775-SEFEE  2020-02-01      No  Two year              Yes   \n",
       "\n",
       "                  PaymentMethod  MonthlyCharges TotalCharges  \n",
       "488   Bank transfer (automatic)           52.55               \n",
       "753                Mailed check           20.25               \n",
       "936                Mailed check           80.85               \n",
       "1082               Mailed check           25.75               \n",
       "1340    Credit card (automatic)           56.05               \n",
       "3331               Mailed check           19.85               \n",
       "3826               Mailed check           25.35               \n",
       "4380               Mailed check           20.00               \n",
       "5218               Mailed check           19.70               \n",
       "6670               Mailed check           73.35               \n",
       "6754  Bank transfer (automatic)           61.90               "
      ]
     },
     "execution_count": 14,
     "metadata": {},
     "output_type": "execute_result"
    }
   ],
   "source": [
    "cdf[cdf['TotalCharges'] == ' ']"
   ]
  },
  {
   "cell_type": "markdown",
   "id": "451b0df9",
   "metadata": {},
   "source": [
    "Не прошло и месяца с начала контракта по момент создания датасета. Пропуски связаны с тем, что клиенту еще не успели посчитать сумму, заменим пропуск на соответствующее значение по сумме в признаке `MonthlyCharges`:"
   ]
  },
  {
   "cell_type": "code",
   "execution_count": 15,
   "id": "8e924538",
   "metadata": {},
   "outputs": [],
   "source": [
    "cdf['TotalCharges'] = np.where(cdf['TotalCharges'] == ' ', cdf['MonthlyCharges'], cdf['TotalCharges'])"
   ]
  },
  {
   "cell_type": "markdown",
   "id": "f4711807",
   "metadata": {},
   "source": [
    "Далее, приведем типы данных для `BeginDate` и `TotalCharges` к более соответствующим:"
   ]
  },
  {
   "cell_type": "code",
   "execution_count": 16,
   "id": "96f74ce1",
   "metadata": {},
   "outputs": [],
   "source": [
    "cdf['BeginDate'] = pd.to_datetime(cdf['BeginDate'])\n",
    "cdf['TotalCharges'] = cdf['TotalCharges'].astype('float64')"
   ]
  },
  {
   "cell_type": "markdown",
   "id": "368627c8",
   "metadata": {},
   "source": [
    "Из признаков `BeginDate` и `EndDate` можно посчитать разницу и сформировать новый признак количества дней со с момента начала контракта:"
   ]
  },
  {
   "cell_type": "code",
   "execution_count": 17,
   "id": "d0b3690f",
   "metadata": {},
   "outputs": [],
   "source": [
    "cdf['temp'] = cdf['EndDate']"
   ]
  },
  {
   "cell_type": "code",
   "execution_count": 18,
   "id": "694c1994",
   "metadata": {},
   "outputs": [],
   "source": [
    "cdf['temp'] = cdf['temp'].apply(lambda d: '2020-02-01' if d == 'No' else d)\n",
    "cdf['temp'] = pd.to_datetime(cdf['temp'])"
   ]
  },
  {
   "cell_type": "code",
   "execution_count": 19,
   "id": "2e97680c",
   "metadata": {},
   "outputs": [],
   "source": [
    "cdf['DaysCnt'] = (cdf['temp'] - cdf['BeginDate']).dt.days\n",
    "cdf = cdf.drop(['temp'], axis=1)"
   ]
  },
  {
   "cell_type": "markdown",
   "id": "7f0fa09d",
   "metadata": {},
   "source": [
    "Теперь у нас есть новый признак `DaysCnt`. Также решением будет преобразовать целевой признак кодированием в признак `Left`, который будет говорить нам, покинул клиент оператора или нет:"
   ]
  },
  {
   "cell_type": "code",
   "execution_count": 20,
   "id": "1d4d8474",
   "metadata": {},
   "outputs": [],
   "source": [
    "cdf['EndDate'] = cdf['EndDate'].apply(lambda d: 0 if d == 'No' else 1)\n",
    "cdf = cdf.rename(columns={'EndDate': 'Left'})"
   ]
  },
  {
   "cell_type": "markdown",
   "id": "76c6cc18",
   "metadata": {},
   "source": [
    "### Итог предобработки"
   ]
  },
  {
   "cell_type": "markdown",
   "id": "63f0d96c",
   "metadata": {},
   "source": [
    "Объединим наши датафреймы в один по признаку `customerID`:"
   ]
  },
  {
   "cell_type": "code",
   "execution_count": 21,
   "id": "7a78f73b",
   "metadata": {},
   "outputs": [
    {
     "data": {
      "text/html": [
       "<div>\n",
       "<style scoped>\n",
       "    .dataframe tbody tr th:only-of-type {\n",
       "        vertical-align: middle;\n",
       "    }\n",
       "\n",
       "    .dataframe tbody tr th {\n",
       "        vertical-align: top;\n",
       "    }\n",
       "\n",
       "    .dataframe thead th {\n",
       "        text-align: right;\n",
       "    }\n",
       "</style>\n",
       "<table border=\"1\" class=\"dataframe\">\n",
       "  <thead>\n",
       "    <tr style=\"text-align: right;\">\n",
       "      <th></th>\n",
       "      <th>customerID</th>\n",
       "      <th>BeginDate</th>\n",
       "      <th>Left</th>\n",
       "      <th>Type</th>\n",
       "      <th>PaperlessBilling</th>\n",
       "      <th>PaymentMethod</th>\n",
       "      <th>MonthlyCharges</th>\n",
       "      <th>TotalCharges</th>\n",
       "      <th>DaysCnt</th>\n",
       "      <th>gender</th>\n",
       "      <th>...</th>\n",
       "      <th>Partner</th>\n",
       "      <th>Dependents</th>\n",
       "      <th>InternetService</th>\n",
       "      <th>OnlineSecurity</th>\n",
       "      <th>OnlineBackup</th>\n",
       "      <th>DeviceProtection</th>\n",
       "      <th>TechSupport</th>\n",
       "      <th>StreamingTV</th>\n",
       "      <th>StreamingMovies</th>\n",
       "      <th>MultipleLines</th>\n",
       "    </tr>\n",
       "  </thead>\n",
       "  <tbody>\n",
       "    <tr>\n",
       "      <th>0</th>\n",
       "      <td>7590-VHVEG</td>\n",
       "      <td>2020-01-01</td>\n",
       "      <td>0</td>\n",
       "      <td>Month-to-month</td>\n",
       "      <td>Yes</td>\n",
       "      <td>Electronic check</td>\n",
       "      <td>29.85</td>\n",
       "      <td>29.85</td>\n",
       "      <td>31</td>\n",
       "      <td>Female</td>\n",
       "      <td>...</td>\n",
       "      <td>Yes</td>\n",
       "      <td>No</td>\n",
       "      <td>DSL</td>\n",
       "      <td>No</td>\n",
       "      <td>Yes</td>\n",
       "      <td>No</td>\n",
       "      <td>No</td>\n",
       "      <td>No</td>\n",
       "      <td>No</td>\n",
       "      <td>NaN</td>\n",
       "    </tr>\n",
       "    <tr>\n",
       "      <th>1</th>\n",
       "      <td>5575-GNVDE</td>\n",
       "      <td>2017-04-01</td>\n",
       "      <td>0</td>\n",
       "      <td>One year</td>\n",
       "      <td>No</td>\n",
       "      <td>Mailed check</td>\n",
       "      <td>56.95</td>\n",
       "      <td>1889.50</td>\n",
       "      <td>1036</td>\n",
       "      <td>Male</td>\n",
       "      <td>...</td>\n",
       "      <td>No</td>\n",
       "      <td>No</td>\n",
       "      <td>DSL</td>\n",
       "      <td>Yes</td>\n",
       "      <td>No</td>\n",
       "      <td>Yes</td>\n",
       "      <td>No</td>\n",
       "      <td>No</td>\n",
       "      <td>No</td>\n",
       "      <td>No</td>\n",
       "    </tr>\n",
       "    <tr>\n",
       "      <th>2</th>\n",
       "      <td>3668-QPYBK</td>\n",
       "      <td>2019-10-01</td>\n",
       "      <td>1</td>\n",
       "      <td>Month-to-month</td>\n",
       "      <td>Yes</td>\n",
       "      <td>Mailed check</td>\n",
       "      <td>53.85</td>\n",
       "      <td>108.15</td>\n",
       "      <td>61</td>\n",
       "      <td>Male</td>\n",
       "      <td>...</td>\n",
       "      <td>No</td>\n",
       "      <td>No</td>\n",
       "      <td>DSL</td>\n",
       "      <td>Yes</td>\n",
       "      <td>Yes</td>\n",
       "      <td>No</td>\n",
       "      <td>No</td>\n",
       "      <td>No</td>\n",
       "      <td>No</td>\n",
       "      <td>No</td>\n",
       "    </tr>\n",
       "    <tr>\n",
       "      <th>3</th>\n",
       "      <td>7795-CFOCW</td>\n",
       "      <td>2016-05-01</td>\n",
       "      <td>0</td>\n",
       "      <td>One year</td>\n",
       "      <td>No</td>\n",
       "      <td>Bank transfer (automatic)</td>\n",
       "      <td>42.30</td>\n",
       "      <td>1840.75</td>\n",
       "      <td>1371</td>\n",
       "      <td>Male</td>\n",
       "      <td>...</td>\n",
       "      <td>No</td>\n",
       "      <td>No</td>\n",
       "      <td>DSL</td>\n",
       "      <td>Yes</td>\n",
       "      <td>No</td>\n",
       "      <td>Yes</td>\n",
       "      <td>Yes</td>\n",
       "      <td>No</td>\n",
       "      <td>No</td>\n",
       "      <td>NaN</td>\n",
       "    </tr>\n",
       "    <tr>\n",
       "      <th>4</th>\n",
       "      <td>9237-HQITU</td>\n",
       "      <td>2019-09-01</td>\n",
       "      <td>1</td>\n",
       "      <td>Month-to-month</td>\n",
       "      <td>Yes</td>\n",
       "      <td>Electronic check</td>\n",
       "      <td>70.70</td>\n",
       "      <td>151.65</td>\n",
       "      <td>61</td>\n",
       "      <td>Female</td>\n",
       "      <td>...</td>\n",
       "      <td>No</td>\n",
       "      <td>No</td>\n",
       "      <td>Fiber optic</td>\n",
       "      <td>No</td>\n",
       "      <td>No</td>\n",
       "      <td>No</td>\n",
       "      <td>No</td>\n",
       "      <td>No</td>\n",
       "      <td>No</td>\n",
       "      <td>No</td>\n",
       "    </tr>\n",
       "  </tbody>\n",
       "</table>\n",
       "<p>5 rows × 21 columns</p>\n",
       "</div>"
      ],
      "text/plain": [
       "   customerID  BeginDate  Left            Type PaperlessBilling  \\\n",
       "0  7590-VHVEG 2020-01-01     0  Month-to-month              Yes   \n",
       "1  5575-GNVDE 2017-04-01     0        One year               No   \n",
       "2  3668-QPYBK 2019-10-01     1  Month-to-month              Yes   \n",
       "3  7795-CFOCW 2016-05-01     0        One year               No   \n",
       "4  9237-HQITU 2019-09-01     1  Month-to-month              Yes   \n",
       "\n",
       "               PaymentMethod  MonthlyCharges  TotalCharges  DaysCnt  gender  \\\n",
       "0           Electronic check           29.85         29.85       31  Female   \n",
       "1               Mailed check           56.95       1889.50     1036    Male   \n",
       "2               Mailed check           53.85        108.15       61    Male   \n",
       "3  Bank transfer (automatic)           42.30       1840.75     1371    Male   \n",
       "4           Electronic check           70.70        151.65       61  Female   \n",
       "\n",
       "   ...  Partner Dependents InternetService OnlineSecurity OnlineBackup  \\\n",
       "0  ...      Yes         No             DSL             No          Yes   \n",
       "1  ...       No         No             DSL            Yes           No   \n",
       "2  ...       No         No             DSL            Yes          Yes   \n",
       "3  ...       No         No             DSL            Yes           No   \n",
       "4  ...       No         No     Fiber optic             No           No   \n",
       "\n",
       "  DeviceProtection TechSupport StreamingTV StreamingMovies MultipleLines  \n",
       "0               No          No          No              No           NaN  \n",
       "1              Yes          No          No              No            No  \n",
       "2               No          No          No              No            No  \n",
       "3              Yes         Yes          No              No           NaN  \n",
       "4               No          No          No              No            No  \n",
       "\n",
       "[5 rows x 21 columns]"
      ]
     },
     "execution_count": 21,
     "metadata": {},
     "output_type": "execute_result"
    }
   ],
   "source": [
    "df = cdf.merge(personal_df, on='customerID', how='left')\n",
    "df = df.merge(internet_df, on='customerID', how='left')\n",
    "df = df.merge(phone_df, on='customerID', how='left')\n",
    "df.head()"
   ]
  },
  {
   "cell_type": "markdown",
   "id": "6c197cce",
   "metadata": {},
   "source": [
    "По итогу объединения у нас появились пропуски связанные с датафреймами с информацией об интернет-услугах и о мобильных-услугах. Если образовался пропуск, значит клиент не использует данную услугу, о чем и свидетельствует отсутствие записи в соответствующем датафрейме:"
   ]
  },
  {
   "cell_type": "code",
   "execution_count": 22,
   "id": "f906867a",
   "metadata": {
    "scrolled": true
   },
   "outputs": [
    {
     "data": {
      "text/markdown": [
       "**Количество пропусков:**"
      ],
      "text/plain": [
       "<IPython.core.display.Markdown object>"
      ]
     },
     "metadata": {},
     "output_type": "display_data"
    },
    {
     "data": {
      "text/plain": [
       "customerID             0\n",
       "BeginDate              0\n",
       "Left                   0\n",
       "Type                   0\n",
       "PaperlessBilling       0\n",
       "PaymentMethod          0\n",
       "MonthlyCharges         0\n",
       "TotalCharges           0\n",
       "DaysCnt                0\n",
       "gender                 0\n",
       "SeniorCitizen          0\n",
       "Partner                0\n",
       "Dependents             0\n",
       "InternetService     1526\n",
       "OnlineSecurity      1526\n",
       "OnlineBackup        1526\n",
       "DeviceProtection    1526\n",
       "TechSupport         1526\n",
       "StreamingTV         1526\n",
       "StreamingMovies     1526\n",
       "MultipleLines        682\n",
       "dtype: int64"
      ]
     },
     "metadata": {},
     "output_type": "display_data"
    }
   ],
   "source": [
    "display(Markdown('**Количество пропусков:**'), df.isna().sum())"
   ]
  },
  {
   "cell_type": "markdown",
   "id": "236e7102",
   "metadata": {},
   "source": [
    "Логично будет заполнить такие пропуски нулем, что будет говорить о том, что клиент соответствующей услугой не пользуется:"
   ]
  },
  {
   "cell_type": "code",
   "execution_count": 23,
   "id": "8181e7a1",
   "metadata": {},
   "outputs": [],
   "source": [
    "cols = ['InternetService', 'OnlineSecurity',\n",
    "       'OnlineBackup', 'DeviceProtection', 'TechSupport',\n",
    "       'StreamingTV', 'StreamingMovies', 'MultipleLines']\n",
    "for i in cols:\n",
    "    df[i] = df[i].fillna('No')"
   ]
  },
  {
   "cell_type": "code",
   "execution_count": 24,
   "id": "3bc16a8f",
   "metadata": {
    "scrolled": true
   },
   "outputs": [
    {
     "data": {
      "text/markdown": [
       "**Количество пропусков:**"
      ],
      "text/plain": [
       "<IPython.core.display.Markdown object>"
      ]
     },
     "metadata": {},
     "output_type": "display_data"
    },
    {
     "data": {
      "text/plain": [
       "customerID          0\n",
       "BeginDate           0\n",
       "Left                0\n",
       "Type                0\n",
       "PaperlessBilling    0\n",
       "PaymentMethod       0\n",
       "MonthlyCharges      0\n",
       "TotalCharges        0\n",
       "DaysCnt             0\n",
       "gender              0\n",
       "SeniorCitizen       0\n",
       "Partner             0\n",
       "Dependents          0\n",
       "InternetService     0\n",
       "OnlineSecurity      0\n",
       "OnlineBackup        0\n",
       "DeviceProtection    0\n",
       "TechSupport         0\n",
       "StreamingTV         0\n",
       "StreamingMovies     0\n",
       "MultipleLines       0\n",
       "dtype: int64"
      ]
     },
     "metadata": {},
     "output_type": "display_data"
    }
   ],
   "source": [
    "display(Markdown('**Количество пропусков:**'), df.isna().sum())"
   ]
  },
  {
   "cell_type": "markdown",
   "id": "d73fa425",
   "metadata": {},
   "source": [
    "**Вывод:** в процессе предобработки мы подготовили и собрали все данные в одно для дальнейшей разработки модели машинного обучения на их основе. В ходе предобработки мы:\n",
    "\n",
    "* Обработали явные и неявные пропущенные значения;\n",
    "* Создали новый признак количества дней `DaysCnt`;\n",
    "* Соединили все датафреймы в один.\n",
    "\n",
    "Теперь данные готовы для разработки модели и расширенному анализу, взглянем на них:"
   ]
  },
  {
   "cell_type": "code",
   "execution_count": 25,
   "id": "72b904de",
   "metadata": {},
   "outputs": [
    {
     "data": {
      "text/html": [
       "<div>\n",
       "<style scoped>\n",
       "    .dataframe tbody tr th:only-of-type {\n",
       "        vertical-align: middle;\n",
       "    }\n",
       "\n",
       "    .dataframe tbody tr th {\n",
       "        vertical-align: top;\n",
       "    }\n",
       "\n",
       "    .dataframe thead th {\n",
       "        text-align: right;\n",
       "    }\n",
       "</style>\n",
       "<table border=\"1\" class=\"dataframe\">\n",
       "  <thead>\n",
       "    <tr style=\"text-align: right;\">\n",
       "      <th></th>\n",
       "      <th>customerID</th>\n",
       "      <th>BeginDate</th>\n",
       "      <th>Left</th>\n",
       "      <th>Type</th>\n",
       "      <th>PaperlessBilling</th>\n",
       "      <th>PaymentMethod</th>\n",
       "      <th>MonthlyCharges</th>\n",
       "      <th>TotalCharges</th>\n",
       "      <th>DaysCnt</th>\n",
       "      <th>gender</th>\n",
       "      <th>...</th>\n",
       "      <th>Partner</th>\n",
       "      <th>Dependents</th>\n",
       "      <th>InternetService</th>\n",
       "      <th>OnlineSecurity</th>\n",
       "      <th>OnlineBackup</th>\n",
       "      <th>DeviceProtection</th>\n",
       "      <th>TechSupport</th>\n",
       "      <th>StreamingTV</th>\n",
       "      <th>StreamingMovies</th>\n",
       "      <th>MultipleLines</th>\n",
       "    </tr>\n",
       "  </thead>\n",
       "  <tbody>\n",
       "    <tr>\n",
       "      <th>0</th>\n",
       "      <td>7590-VHVEG</td>\n",
       "      <td>2020-01-01</td>\n",
       "      <td>0</td>\n",
       "      <td>Month-to-month</td>\n",
       "      <td>Yes</td>\n",
       "      <td>Electronic check</td>\n",
       "      <td>29.85</td>\n",
       "      <td>29.85</td>\n",
       "      <td>31</td>\n",
       "      <td>Female</td>\n",
       "      <td>...</td>\n",
       "      <td>Yes</td>\n",
       "      <td>No</td>\n",
       "      <td>DSL</td>\n",
       "      <td>No</td>\n",
       "      <td>Yes</td>\n",
       "      <td>No</td>\n",
       "      <td>No</td>\n",
       "      <td>No</td>\n",
       "      <td>No</td>\n",
       "      <td>No</td>\n",
       "    </tr>\n",
       "    <tr>\n",
       "      <th>1</th>\n",
       "      <td>5575-GNVDE</td>\n",
       "      <td>2017-04-01</td>\n",
       "      <td>0</td>\n",
       "      <td>One year</td>\n",
       "      <td>No</td>\n",
       "      <td>Mailed check</td>\n",
       "      <td>56.95</td>\n",
       "      <td>1889.50</td>\n",
       "      <td>1036</td>\n",
       "      <td>Male</td>\n",
       "      <td>...</td>\n",
       "      <td>No</td>\n",
       "      <td>No</td>\n",
       "      <td>DSL</td>\n",
       "      <td>Yes</td>\n",
       "      <td>No</td>\n",
       "      <td>Yes</td>\n",
       "      <td>No</td>\n",
       "      <td>No</td>\n",
       "      <td>No</td>\n",
       "      <td>No</td>\n",
       "    </tr>\n",
       "    <tr>\n",
       "      <th>2</th>\n",
       "      <td>3668-QPYBK</td>\n",
       "      <td>2019-10-01</td>\n",
       "      <td>1</td>\n",
       "      <td>Month-to-month</td>\n",
       "      <td>Yes</td>\n",
       "      <td>Mailed check</td>\n",
       "      <td>53.85</td>\n",
       "      <td>108.15</td>\n",
       "      <td>61</td>\n",
       "      <td>Male</td>\n",
       "      <td>...</td>\n",
       "      <td>No</td>\n",
       "      <td>No</td>\n",
       "      <td>DSL</td>\n",
       "      <td>Yes</td>\n",
       "      <td>Yes</td>\n",
       "      <td>No</td>\n",
       "      <td>No</td>\n",
       "      <td>No</td>\n",
       "      <td>No</td>\n",
       "      <td>No</td>\n",
       "    </tr>\n",
       "    <tr>\n",
       "      <th>3</th>\n",
       "      <td>7795-CFOCW</td>\n",
       "      <td>2016-05-01</td>\n",
       "      <td>0</td>\n",
       "      <td>One year</td>\n",
       "      <td>No</td>\n",
       "      <td>Bank transfer (automatic)</td>\n",
       "      <td>42.30</td>\n",
       "      <td>1840.75</td>\n",
       "      <td>1371</td>\n",
       "      <td>Male</td>\n",
       "      <td>...</td>\n",
       "      <td>No</td>\n",
       "      <td>No</td>\n",
       "      <td>DSL</td>\n",
       "      <td>Yes</td>\n",
       "      <td>No</td>\n",
       "      <td>Yes</td>\n",
       "      <td>Yes</td>\n",
       "      <td>No</td>\n",
       "      <td>No</td>\n",
       "      <td>No</td>\n",
       "    </tr>\n",
       "    <tr>\n",
       "      <th>4</th>\n",
       "      <td>9237-HQITU</td>\n",
       "      <td>2019-09-01</td>\n",
       "      <td>1</td>\n",
       "      <td>Month-to-month</td>\n",
       "      <td>Yes</td>\n",
       "      <td>Electronic check</td>\n",
       "      <td>70.70</td>\n",
       "      <td>151.65</td>\n",
       "      <td>61</td>\n",
       "      <td>Female</td>\n",
       "      <td>...</td>\n",
       "      <td>No</td>\n",
       "      <td>No</td>\n",
       "      <td>Fiber optic</td>\n",
       "      <td>No</td>\n",
       "      <td>No</td>\n",
       "      <td>No</td>\n",
       "      <td>No</td>\n",
       "      <td>No</td>\n",
       "      <td>No</td>\n",
       "      <td>No</td>\n",
       "    </tr>\n",
       "  </tbody>\n",
       "</table>\n",
       "<p>5 rows × 21 columns</p>\n",
       "</div>"
      ],
      "text/plain": [
       "   customerID  BeginDate  Left            Type PaperlessBilling  \\\n",
       "0  7590-VHVEG 2020-01-01     0  Month-to-month              Yes   \n",
       "1  5575-GNVDE 2017-04-01     0        One year               No   \n",
       "2  3668-QPYBK 2019-10-01     1  Month-to-month              Yes   \n",
       "3  7795-CFOCW 2016-05-01     0        One year               No   \n",
       "4  9237-HQITU 2019-09-01     1  Month-to-month              Yes   \n",
       "\n",
       "               PaymentMethod  MonthlyCharges  TotalCharges  DaysCnt  gender  \\\n",
       "0           Electronic check           29.85         29.85       31  Female   \n",
       "1               Mailed check           56.95       1889.50     1036    Male   \n",
       "2               Mailed check           53.85        108.15       61    Male   \n",
       "3  Bank transfer (automatic)           42.30       1840.75     1371    Male   \n",
       "4           Electronic check           70.70        151.65       61  Female   \n",
       "\n",
       "   ...  Partner Dependents InternetService OnlineSecurity OnlineBackup  \\\n",
       "0  ...      Yes         No             DSL             No          Yes   \n",
       "1  ...       No         No             DSL            Yes           No   \n",
       "2  ...       No         No             DSL            Yes          Yes   \n",
       "3  ...       No         No             DSL            Yes           No   \n",
       "4  ...       No         No     Fiber optic             No           No   \n",
       "\n",
       "  DeviceProtection TechSupport StreamingTV StreamingMovies MultipleLines  \n",
       "0               No          No          No              No            No  \n",
       "1              Yes          No          No              No            No  \n",
       "2               No          No          No              No            No  \n",
       "3              Yes         Yes          No              No            No  \n",
       "4               No          No          No              No            No  \n",
       "\n",
       "[5 rows x 21 columns]"
      ]
     },
     "execution_count": 25,
     "metadata": {},
     "output_type": "execute_result"
    }
   ],
   "source": [
    "df.head()"
   ]
  },
  {
   "cell_type": "code",
   "execution_count": 26,
   "id": "be19d073",
   "metadata": {
    "scrolled": true
   },
   "outputs": [
    {
     "data": {
      "text/plain": [
       "87"
      ]
     },
     "execution_count": 26,
     "metadata": {},
     "output_type": "execute_result"
    }
   ],
   "source": [
    "del cdf, phone_df, personal_df, internet_df, contract_df\n",
    "gc.collect()"
   ]
  },
  {
   "cell_type": "markdown",
   "id": "801c4880",
   "metadata": {},
   "source": [
    "## Расширенный EDA"
   ]
  },
  {
   "cell_type": "markdown",
   "id": "8341bf41",
   "metadata": {},
   "source": [
    "Рассмотрим некоторые признаки после предобработки поподробнее:"
   ]
  },
  {
   "cell_type": "code",
   "execution_count": 27,
   "id": "56d4cc02",
   "metadata": {},
   "outputs": [],
   "source": [
    "%matplotlib inline"
   ]
  },
  {
   "cell_type": "code",
   "execution_count": 28,
   "id": "fe7e763e",
   "metadata": {},
   "outputs": [
    {
     "data": {
      "image/png": "[encoded data removed]",
      "text/plain": [
       "<Figure size 648x504 with 1 Axes>"
      ]
     },
     "metadata": {
      "needs_background": "light"
     },
     "output_type": "display_data"
    }
   ],
   "source": [
    "g=sns.displot(df['Type'])\n",
    "g.fig.set_size_inches(9, 7)"
   ]
  },
  {
   "cell_type": "markdown",
   "id": "4c321ce1",
   "metadata": {},
   "source": [
    "Судя по графику, больше половины клиентов придерживаются помесячной подписки."
   ]
  },
  {
   "cell_type": "code",
   "execution_count": 29,
   "id": "9dff50f4",
   "metadata": {},
   "outputs": [
    {
     "data": {
      "text/plain": [
       "count    7043.000000\n",
       "mean     2279.798992\n",
       "std      2266.730170\n",
       "min        18.800000\n",
       "25%       398.550000\n",
       "50%      1394.550000\n",
       "75%      3786.600000\n",
       "max      8684.800000\n",
       "Name: TotalCharges, dtype: float64"
      ]
     },
     "execution_count": 29,
     "metadata": {},
     "output_type": "execute_result"
    },
    {
     "data": {
      "image/png": "[encoded data removed]",
      "text/plain": [
       "<Figure size 648x504 with 1 Axes>"
      ]
     },
     "metadata": {
      "needs_background": "light"
     },
     "output_type": "display_data"
    }
   ],
   "source": [
    "g = sns.displot(df['TotalCharges'])\n",
    "g.fig.set_size_inches(9, 7)\n",
    "\n",
    "df['TotalCharges'].describe()"
   ]
  },
  {
   "cell_type": "markdown",
   "id": "2605626a",
   "metadata": {},
   "source": [
    "По графику видно, что максимальное значение уходит очень далеко от 0.75-квантиля, однако, к максимальному значению график приближается плавно и нет оснований полагать, что это выброс.\n",
    "\n",
    "Большее количество клиентов потратили за все время не больше 1500."
   ]
  },
  {
   "cell_type": "code",
   "execution_count": 30,
   "id": "4a90f6ec",
   "metadata": {},
   "outputs": [
    {
     "data": {
      "text/plain": [
       "count    7043.000000\n",
       "mean      985.996166\n",
       "std       747.587844\n",
       "min         0.000000\n",
       "25%       273.000000\n",
       "50%       883.000000\n",
       "75%      1676.000000\n",
       "max      2191.000000\n",
       "Name: DaysCnt, dtype: float64"
      ]
     },
     "execution_count": 30,
     "metadata": {},
     "output_type": "execute_result"
    },
    {
     "data": {
      "image/png": "[encoded data removed]",
      "text/plain": [
       "<Figure size 648x504 with 1 Axes>"
      ]
     },
     "metadata": {
      "needs_background": "light"
     },
     "output_type": "display_data"
    }
   ],
   "source": [
    "g = sns.displot(df['DaysCnt'])\n",
    "g.fig.set_size_inches(9, 7)\n",
    "\n",
    "df['DaysCnt'].describe()"
   ]
  },
  {
   "cell_type": "markdown",
   "id": "f75ff4bb",
   "metadata": {},
   "source": [
    "Судя по графику, можно охарактеризовать 3 группы: относительно новые клиенты, которые в системе не больще 250 дней, клиенты, которые давно в системе ( > 2000), остальные пользователи расположились между этими двумя группами.\n",
    "\n",
    "Остальные признаки визуализировать нет большого смысла - они распределены бинарно. Взглянем на некоторые:"
   ]
  },
  {
   "cell_type": "code",
   "execution_count": 31,
   "id": "240674c3",
   "metadata": {},
   "outputs": [
    {
     "data": {
      "text/plain": [
       "0    5901\n",
       "1    1142\n",
       "Name: SeniorCitizen, dtype: int64"
      ]
     },
     "metadata": {},
     "output_type": "display_data"
    },
    {
     "data": {
      "text/plain": [
       "Male      3555\n",
       "Female    3488\n",
       "Name: gender, dtype: int64"
      ]
     },
     "metadata": {},
     "output_type": "display_data"
    },
    {
     "data": {
      "text/plain": [
       "No     3641\n",
       "Yes    3402\n",
       "Name: Partner, dtype: int64"
      ]
     },
     "metadata": {},
     "output_type": "display_data"
    },
    {
     "data": {
      "text/plain": [
       "No     4933\n",
       "Yes    2110\n",
       "Name: Dependents, dtype: int64"
      ]
     },
     "metadata": {},
     "output_type": "display_data"
    },
    {
     "data": {
      "text/plain": [
       "[None, None, None, None]"
      ]
     },
     "execution_count": 31,
     "metadata": {},
     "output_type": "execute_result"
    }
   ],
   "source": [
    "[display(x.value_counts()) for x in [df['SeniorCitizen'], df['gender'], df['Partner'], df['Dependents']]]"
   ]
  },
  {
   "cell_type": "markdown",
   "id": "48c0d645",
   "metadata": {},
   "source": [
    "Пол и наличие партнера распределены поровну. Статус пенсионера имеет 1/7 от всех клиентов. Иждевенцев имеет чуть большая доля клиентов: 2/7. Проанализируем, какое значение на нашу цель имеет каждый из признаков."
   ]
  },
  {
   "cell_type": "markdown",
   "id": "e78a5b6f",
   "metadata": {},
   "source": [
    "## Разработка модели машинного обучения"
   ]
  },
  {
   "cell_type": "markdown",
   "id": "ed0b84aa",
   "metadata": {},
   "source": [
    "### Работа с признаками"
   ]
  },
  {
   "cell_type": "markdown",
   "id": "0a944045",
   "metadata": {},
   "source": [
    "Для начала зафиксируем обговоренный в техническом задании `RandomState`, а также зафиксируем `cv` для последующей кросс-валидации.\n",
    "\n",
    "Признаки `customerID` и `BeginDate` нам больше не нужны:"
   ]
  },
  {
   "cell_type": "code",
   "execution_count": 32,
   "id": "9ba9b352",
   "metadata": {},
   "outputs": [],
   "source": [
    "state = np.random.RandomState(120922)\n",
    "cv = RepeatedStratifiedKFold(n_splits=5, n_repeats=5, random_state=state)\n",
    "\n",
    "df = df.drop(['customerID', 'BeginDate'], axis=1)"
   ]
  },
  {
   "cell_type": "markdown",
   "id": "af5c9b92",
   "metadata": {},
   "source": [
    "Взглянем на целевой признак `Left`:"
   ]
  },
  {
   "cell_type": "code",
   "execution_count": 33,
   "id": "e0dcce98",
   "metadata": {},
   "outputs": [
    {
     "data": {
      "text/plain": [
       "0    5174\n",
       "1    1869\n",
       "Name: Left, dtype: int64"
      ]
     },
     "execution_count": 33,
     "metadata": {},
     "output_type": "execute_result"
    }
   ],
   "source": [
    "df['Left'].value_counts()"
   ]
  },
  {
   "cell_type": "markdown",
   "id": "13fa2d59",
   "metadata": {},
   "source": [
    "Необходимо учесть, что классы несбалансированны."
   ]
  },
  {
   "cell_type": "markdown",
   "id": "e1f1f603",
   "metadata": {},
   "source": [
    "#### Корреляция и мультиколлинеарность"
   ]
  },
  {
   "cell_type": "markdown",
   "id": "1fa264bd",
   "metadata": {},
   "source": [
    "\n",
    "\n",
    "Посмотрим также на матрицу корреляции между нашими признаками:"
   ]
  },
  {
   "cell_type": "code",
   "execution_count": 34,
   "id": "0f76341f",
   "metadata": {},
   "outputs": [
    {
     "name": "stdout",
     "output_type": "stream",
     "text": [
      "interval columns not set, guessing: ['Left', 'MonthlyCharges', 'TotalCharges', 'DaysCnt', 'SeniorCitizen']\n"
     ]
    },
    {
     "data": {
      "image/png": "[encoded data removed]",
      "text/plain": [
       "<Figure size 1152x720 with 2 Axes>"
      ]
     },
     "metadata": {
      "needs_background": "light"
     },
     "output_type": "display_data"
    }
   ],
   "source": [
    "phik_overview = df.phik_matrix()\n",
    "plot_correlation_matrix(phik_overview.values, \n",
    "                        x_labels=phik_overview.columns, \n",
    "                        y_labels=phik_overview.index, \n",
    "                        vmin=0, vmax=1, color_map=\"Reds\", \n",
    "                        title=r\"correlation $\\phi_K$\", \n",
    "                        fontsize_factor=1.5, \n",
    "                        figsize=(16, 10))\n",
    "plt.tight_layout()"
   ]
  },
  {
   "cell_type": "markdown",
   "id": "0986c2e8",
   "metadata": {},
   "source": [
    "* Видно, что признак `gender` практически ни с чем не коррелирует. Признаки `MultipleLines`, `StreamingMovies`, `StreamingTV`, `OnlineBackup`, `DeviceProtection` имеют крайне низкую корреляцию с нашим целевым признаком, что является крайне незначительным показателем важности для нашей модели.\n",
    "\n",
    "* Также необходимо учесть, что при дальнейшем рассмотрении некоторых линейных моделей, нам необходимо разрешить проблему мультиколлинеарности. Такие признаки, как `MonthlyCharges`, `TotalCharges`, `DaysCnt` имеют высокую мультиколлинеарность с другими признаками.\n",
    "\n",
    "Уберем признаки из первого вывода, а при работе с линейными моделями ограничим данные от признаков из второго пункта:"
   ]
  },
  {
   "cell_type": "code",
   "execution_count": 35,
   "id": "5ee4d64f",
   "metadata": {},
   "outputs": [],
   "source": [
    "df = df.drop(['gender', \n",
    "              'MultipleLines', \n",
    "              'StreamingMovies', \n",
    "              'StreamingTV', \n",
    "              'OnlineBackup', \n",
    "              'DeviceProtection'],\n",
    "               axis=1)"
   ]
  },
  {
   "cell_type": "markdown",
   "id": "a3a68c01",
   "metadata": {},
   "source": [
    "#### Сплит"
   ]
  },
  {
   "cell_type": "markdown",
   "id": "2c31e98c",
   "metadata": {},
   "source": [
    "Разделим данные на обучающую и тестовую выборки с отделением целевого признака, а также укажем параметр `stratify` для равномерного разделения целевой метки 1 в train и test:"
   ]
  },
  {
   "cell_type": "code",
   "execution_count": 36,
   "id": "72534dd5",
   "metadata": {},
   "outputs": [
    {
     "name": "stdout",
     "output_type": "stream",
     "text": [
      "(5282, 12)\n",
      "(1761, 12)\n",
      "(5282,)\n",
      "(1761,)\n"
     ]
    },
    {
     "data": {
      "text/plain": [
       "[None, None, None, None]"
      ]
     },
     "execution_count": 36,
     "metadata": {},
     "output_type": "execute_result"
    }
   ],
   "source": [
    "target = 'Left'\n",
    "X_train, X_test, y_train, y_test = train_test_split(\n",
    "    df.drop([target], axis=1),\n",
    "    df[target],\n",
    "    test_size=0.25,\n",
    "    random_state=state,\n",
    "    stratify=df[target]\n",
    ")\n",
    "\n",
    "[print(x.shape) for x in [X_train, X_test, y_train, y_test]]"
   ]
  },
  {
   "cell_type": "markdown",
   "id": "5e8decc0",
   "metadata": {},
   "source": [
    "В качестве решения для дисбаланса применим технику переcэмплирования синтетического меньшинства `SMOTE`, таким образом искусственно увеличив количество целевых меток:"
   ]
  },
  {
   "cell_type": "markdown",
   "id": "9877650c",
   "metadata": {},
   "source": [
    "### Обучение моделей"
   ]
  },
  {
   "cell_type": "markdown",
   "id": "d8224e8e",
   "metadata": {},
   "source": [
    "Для сравнения моделей, будем добавлять результат их работы в таблицу.\n",
    "\n",
    "Применять модели глубокого обучения, в рамках данной задачи, смысла нет, так как на таком объеме данных практичнее отработают модели классического машинного обучения. Будем рассматривать их."
   ]
  },
  {
   "cell_type": "code",
   "execution_count": 37,
   "id": "7cefda63",
   "metadata": {},
   "outputs": [],
   "source": [
    "model = []\n",
    "ROC_AUC = []\n",
    "\n",
    "def list_append(model_name, metric):\n",
    "    model.append(model_name)\n",
    "    ROC_AUC.append(metric)"
   ]
  },
  {
   "cell_type": "markdown",
   "id": "9471da62",
   "metadata": {},
   "source": [
    "Напишем pipeline-функцию, в которой поочередно будем обрабатывать признаки кодировкой и стандартизировать данные с помощью `StandardScaler`, затем ранжировать признаки с помощью Recursive Feature Elimination (`RFECV`) и, непосредственно, обучать модель. Затем провалидируем результат ее работы на наших данных и посчитаем среднее, по которому будем сравнивать модели: "
   ]
  },
  {
   "cell_type": "code",
   "execution_count": 38,
   "id": "3d444680",
   "metadata": {},
   "outputs": [],
   "source": [
    "def make_pipe(model, x):\n",
    "    \n",
    "    num_cols = x.select_dtypes(exclude=['object']).columns.tolist()\n",
    "    cat_cols = x.select_dtypes(include=['object']).columns.tolist()\n",
    "    \n",
    "    num_transform = StandardScaler()\n",
    "    cat_transform = OneHotEncoder(sparse = False, handle_unknown='ignore')\n",
    "    \n",
    "    preproc = ColumnTransformer(transformers = [('num', num_transform, num_cols),\n",
    "                                                ('cat', cat_transform, cat_cols)])\n",
    "    rfecv = RFECV(estimator=model)\n",
    "    smt = SMOTE(sampling_strategy=0.5, random_state=state)\n",
    "    \n",
    "    pipe = imbPipeline([('Preprocessor', preproc),\n",
    "                        ('Feature Selection', rfecv),\n",
    "                        ('SMOTE', smt),\n",
    "                        ('Model', model)\n",
    "                       ])\n",
    "    return pipe"
   ]
  },
  {
   "cell_type": "code",
   "execution_count": 39,
   "id": "bcdf97a8",
   "metadata": {},
   "outputs": [],
   "source": [
    "def validation(name, pipe, x, y):    \n",
    "\n",
    "    n_scores = cross_val_score(pipe, x, y, scoring='roc_auc', cv=cv, n_jobs=-1)\n",
    "    roc_auc = round(np.mean(n_scores), 4)\n",
    "    list_append(name, roc_auc)\n",
    "    \n",
    "    print('ROC_AUC: ', round(np.mean(n_scores), 4))"
   ]
  },
  {
   "cell_type": "markdown",
   "id": "5f8f9f2d",
   "metadata": {},
   "source": [
    "#### XGBoostClassifier"
   ]
  },
  {
   "cell_type": "markdown",
   "id": "6d1e2ec4",
   "metadata": {},
   "source": [
    "Рассмотрим эффективную модель градиентного бустинга - `XGBClassifier`:"
   ]
  },
  {
   "cell_type": "code",
   "execution_count": 40,
   "id": "5458166b",
   "metadata": {
    "scrolled": true
   },
   "outputs": [
    {
     "name": "stdout",
     "output_type": "stream",
     "text": [
      "ROC_AUC:  0.9366\n",
      "CPU times: total: 234 ms\n",
      "Wall time: 7min 26s\n"
     ]
    }
   ],
   "source": [
    "%%time\n",
    "\n",
    "xgb = XGBClassifier(use_label_encoder=False, random_state=state)\n",
    "xg_pipe = make_pipe(xgb, X_train)\n",
    "validation('XGBoost', xg_pipe, X_train, y_train)"
   ]
  },
  {
   "cell_type": "markdown",
   "id": "b80eda9a",
   "metadata": {},
   "source": [
    "#### Lasso"
   ]
  },
  {
   "cell_type": "markdown",
   "id": "fe5adb03",
   "metadata": {},
   "source": [
    "Относительно наших данных, логичным решением будет рассмотреть модели использующих регуляризацию в своей основе. Взглянем на 2 линейные модели: `Lasso`, использующую L1-регуляризацию и `Ridge`, с регуляризацией L2.\n",
    "\n",
    "Уберем мультиколлиниарные признаки из данных для подачи в линейные модели:"
   ]
  },
  {
   "cell_type": "code",
   "execution_count": 43,
   "id": "88f9375b",
   "metadata": {},
   "outputs": [],
   "source": [
    "X_lin = X_train.drop(['MonthlyCharges', 'TotalCharges', 'DaysCnt'], axis=1)"
   ]
  },
  {
   "cell_type": "code",
   "execution_count": 44,
   "id": "ad45555e",
   "metadata": {},
   "outputs": [
    {
     "name": "stdout",
     "output_type": "stream",
     "text": [
      "ROC_AUC:  0.8229\n",
      "CPU times: total: 250 ms\n",
      "Wall time: 7min 9s\n"
     ]
    }
   ],
   "source": [
    "%%time\n",
    "\n",
    "lasso = LassoCV(cv=cv, random_state=state)\n",
    "lasso_pipe = make_pipe(lasso, X_lin)\n",
    "validation('LassoCV', lasso_pipe, X_lin, y_train)"
   ]
  },
  {
   "cell_type": "markdown",
   "id": "a2423e6c",
   "metadata": {},
   "source": [
    "#### Ridge"
   ]
  },
  {
   "cell_type": "code",
   "execution_count": 45,
   "id": "5bdd76df",
   "metadata": {},
   "outputs": [
    {
     "name": "stdout",
     "output_type": "stream",
     "text": [
      "ROC_AUC:  0.8226\n",
      "CPU times: total: 203 ms\n",
      "Wall time: 2.98 s\n"
     ]
    }
   ],
   "source": [
    "%%time\n",
    "\n",
    "ridge = Ridge(random_state=state)\n",
    "ridge_pipe = make_pipe(ridge, X_lin)\n",
    "validation('Ridge', ridge_pipe, X_lin, y_train)"
   ]
  },
  {
   "cell_type": "markdown",
   "id": "3648e550",
   "metadata": {},
   "source": [
    "#### LogisticRegression"
   ]
  },
  {
   "cell_type": "markdown",
   "id": "b4e99bf1",
   "metadata": {},
   "source": [
    "Взглянем на простую логистическую регрессию:"
   ]
  },
  {
   "cell_type": "code",
   "execution_count": 47,
   "id": "0a3a2c45",
   "metadata": {},
   "outputs": [
    {
     "name": "stdout",
     "output_type": "stream",
     "text": [
      "ROC_AUC:  0.8126\n",
      "CPU times: total: 156 ms\n",
      "Wall time: 15.5 s\n"
     ]
    }
   ],
   "source": [
    "%%time\n",
    "\n",
    "lr = LogisticRegression(random_state=state, class_weight=\"balanced\")\n",
    "lr_pipe = make_pipe(lr, X_lin)\n",
    "validation('LogisticRegression', lr_pipe, X_lin, y_train)"
   ]
  },
  {
   "cell_type": "markdown",
   "id": "e08d7b5f",
   "metadata": {},
   "source": [
    "#### RandomForestClassifier"
   ]
  },
  {
   "cell_type": "markdown",
   "id": "b471d5ec",
   "metadata": {},
   "source": [
    "Также добавим в наше исследование модель случайного леса для решения задач классификации:"
   ]
  },
  {
   "cell_type": "code",
   "execution_count": 49,
   "id": "a949c209",
   "metadata": {},
   "outputs": [
    {
     "name": "stdout",
     "output_type": "stream",
     "text": [
      "ROC_AUC:  0.8602\n",
      "CPU times: total: 203 ms\n",
      "Wall time: 11min 27s\n"
     ]
    }
   ],
   "source": [
    "%%time\n",
    "\n",
    "rfc = RandomForestClassifier(random_state=state, class_weight=\"balanced\")\n",
    "rfc_pipe = make_pipe(rfc, X_train)\n",
    "validation('RandomForestClassifier', rfc_pipe, X_train, y_train)"
   ]
  },
  {
   "cell_type": "markdown",
   "id": "359c2c0d",
   "metadata": {},
   "source": [
    "#### Метод опорных векторов SVM"
   ]
  },
  {
   "cell_type": "markdown",
   "id": "41a0bb23",
   "metadata": {},
   "source": [
    "Последней рассмотрим модель `SVM`, основанную на методе опорных векторов. Данный алгоритм можно охарактеризовать как векторную классификацию линейной поддержки:"
   ]
  },
  {
   "cell_type": "code",
   "execution_count": 48,
   "id": "4556e21e",
   "metadata": {},
   "outputs": [
    {
     "name": "stdout",
     "output_type": "stream",
     "text": [
      "ROC_AUC:  0.8216\n",
      "CPU times: total: 93.8 ms\n",
      "Wall time: 36.6 s\n"
     ]
    }
   ],
   "source": [
    "%%time\n",
    "\n",
    "svm_m = svm.LinearSVC(max_iter=1000)\n",
    "svm_pipe = make_pipe(svm_m, X_lin)\n",
    "validation('SVM', svm_pipe, X_lin, y_train)"
   ]
  },
  {
   "cell_type": "markdown",
   "id": "e186a5a5",
   "metadata": {},
   "source": [
    "#### Вывод из обучения"
   ]
  },
  {
   "cell_type": "code",
   "execution_count": 50,
   "id": "119dda20",
   "metadata": {},
   "outputs": [
    {
     "data": {
      "text/html": [
       "<div>\n",
       "<style scoped>\n",
       "    .dataframe tbody tr th:only-of-type {\n",
       "        vertical-align: middle;\n",
       "    }\n",
       "\n",
       "    .dataframe tbody tr th {\n",
       "        vertical-align: top;\n",
       "    }\n",
       "\n",
       "    .dataframe thead th {\n",
       "        text-align: right;\n",
       "    }\n",
       "</style>\n",
       "<table border=\"1\" class=\"dataframe\">\n",
       "  <thead>\n",
       "    <tr style=\"text-align: right;\">\n",
       "      <th></th>\n",
       "      <th>ROC_AUC</th>\n",
       "    </tr>\n",
       "    <tr>\n",
       "      <th>model</th>\n",
       "      <th></th>\n",
       "    </tr>\n",
       "  </thead>\n",
       "  <tbody>\n",
       "    <tr>\n",
       "      <th>XGBoost</th>\n",
       "      <td>0.9366</td>\n",
       "    </tr>\n",
       "    <tr>\n",
       "      <th>LassoCV</th>\n",
       "      <td>0.8229</td>\n",
       "    </tr>\n",
       "    <tr>\n",
       "      <th>Ridge</th>\n",
       "      <td>0.8226</td>\n",
       "    </tr>\n",
       "    <tr>\n",
       "      <th>LogisticRegression</th>\n",
       "      <td>0.8126</td>\n",
       "    </tr>\n",
       "    <tr>\n",
       "      <th>SVM</th>\n",
       "      <td>0.8216</td>\n",
       "    </tr>\n",
       "    <tr>\n",
       "      <th>RandomForestClassifier</th>\n",
       "      <td>0.8602</td>\n",
       "    </tr>\n",
       "  </tbody>\n",
       "</table>\n",
       "</div>"
      ],
      "text/plain": [
       "                        ROC_AUC\n",
       "model                          \n",
       "XGBoost                  0.9366\n",
       "LassoCV                  0.8229\n",
       "Ridge                    0.8226\n",
       "LogisticRegression       0.8126\n",
       "SVM                      0.8216\n",
       "RandomForestClassifier   0.8602"
      ]
     },
     "execution_count": 50,
     "metadata": {},
     "output_type": "execute_result"
    }
   ],
   "source": [
    "list_tuples = list(zip(model, ROC_AUC))\n",
    "frame = pd.DataFrame(list_tuples, columns=['model', 'ROC_AUC'])\n",
    "frame.set_index('model')"
   ]
  },
  {
   "cell_type": "markdown",
   "id": "440310f0",
   "metadata": {},
   "source": [
    "При валидации на тренировочных данных, XGBoost обгоняет всех с заметным перевесом, однако RandomForest, LogisticRegression и Ridge-регрессия также показывают способность справится с задачей. "
   ]
  },
  {
   "cell_type": "markdown",
   "id": "726fc2a5",
   "metadata": {},
   "source": [
    "### Подбор гиперпараметров"
   ]
  },
  {
   "cell_type": "code",
   "execution_count": 47,
   "id": "c69ed518",
   "metadata": {
    "scrolled": true
   },
   "outputs": [
    {
     "data": {
      "text/plain": [
       "{'Model__booster': 'gbtree', 'Model__max_depth': 5, 'Model__n_estimators': 250}"
      ]
     },
     "metadata": {},
     "output_type": "display_data"
    },
    {
     "data": {
      "text/plain": [
       "0.9300296768457906"
      ]
     },
     "metadata": {},
     "output_type": "display_data"
    },
    {
     "name": "stdout",
     "output_type": "stream",
     "text": [
      "CPU times: total: 1min 45s\n",
      "Wall time: 3h 49min 6s\n"
     ]
    }
   ],
   "source": [
    "%%time\n",
    "\n",
    "params = {'Model__booster':['gbtree', 'dart'], \n",
    "          'Model__n_estimators':[100, 150, 200, 250], \n",
    "          'Model__max_depth':[5, 6, 7, 9]}\n",
    "        \n",
    "GRD_search = GridSearchCV(xg_pipe, \n",
    "                          params, \n",
    "                          scoring='roc_auc', \n",
    "                          n_jobs=-1, \n",
    "                          cv=cv)\n",
    "GRD_search.fit(X_train, y_train)\n",
    "    \n",
    "display(GRD_search.best_params_, GRD_search.best_score_)"
   ]
  },
  {
   "cell_type": "code",
   "execution_count": 51,
   "id": "398b0e9d",
   "metadata": {},
   "outputs": [],
   "source": [
    "try:   \n",
    "    xg_grid = GRD_search.best_estimator_\n",
    "except:\n",
    "    xg_grid = make_pipe(XGBClassifier(booster='gbtree', max_depth=5, n_estimators=250,\n",
    "                                      use_label_encoder=False, random_state=state), X_train)"
   ]
  },
  {
   "cell_type": "markdown",
   "id": "75514d3a",
   "metadata": {},
   "source": [
    "### Тестирование модели"
   ]
  },
  {
   "cell_type": "markdown",
   "id": "46e5d2c0",
   "metadata": {},
   "source": [
    "Итак, протестируем лучшую модель на тестовых данных:"
   ]
  },
  {
   "cell_type": "code",
   "execution_count": 52,
   "id": "a2793cb1",
   "metadata": {},
   "outputs": [
    {
     "data": {
      "text/plain": [
       "'Метрика ROC-AUC: '"
      ]
     },
     "metadata": {},
     "output_type": "display_data"
    },
    {
     "data": {
      "text/plain": [
       "0.9487"
      ]
     },
     "metadata": {},
     "output_type": "display_data"
    },
    {
     "data": {
      "text/plain": [
       "'Точность модели: '"
      ]
     },
     "metadata": {},
     "output_type": "display_data"
    },
    {
     "data": {
      "text/plain": [
       "0.9018"
      ]
     },
     "metadata": {},
     "output_type": "display_data"
    },
    {
     "name": "stdout",
     "output_type": "stream",
     "text": [
      "CPU times: total: 3min 43s\n",
      "Wall time: 57.4 s\n"
     ]
    }
   ],
   "source": [
    "%%time\n",
    "\n",
    "xg_grid.fit(X_train, y_train)\n",
    "pred = xg_grid.predict(X_test)\n",
    "\n",
    "probabilities_test = xg_grid.predict_proba(X_test)\n",
    "probabilities_one_valid = probabilities_test[:, 1]\n",
    "\n",
    "display('Метрика ROC-AUC: ', round(roc_auc_score(y_test, probabilities_one_valid), 4))\n",
    "display('Точность модели: ', round(accuracy_score(y_test, pred), 4))"
   ]
  },
  {
   "cell_type": "markdown",
   "id": "ee36f137",
   "metadata": {},
   "source": [
    "Обученная модель выполняет свою задачу с точностью (accuracy): 90%. Метрика ROC-AUC составила: ~0.95. Построим визуализацию roc-curve для наглядности: "
   ]
  },
  {
   "cell_type": "code",
   "execution_count": 53,
   "id": "319239ff",
   "metadata": {},
   "outputs": [
    {
     "data": {
      "image/png": "[encoded data removed]",
      "text/plain": [
       "<Figure size 432x288 with 1 Axes>"
      ]
     },
     "metadata": {
      "needs_background": "light"
     },
     "output_type": "display_data"
    }
   ],
   "source": [
    "fpr, tpr, thresholds = roc_curve(y_test, probabilities_one_valid)\n",
    "\n",
    "plt.figure()\n",
    "\n",
    "plt.plot(fpr, tpr)\n",
    "plt.xlim([0.0, 1.0])\n",
    "plt.ylim([0.0, 1.0])\n",
    "\n",
    "plt.plot([0, 1], [0, 1], linestyle='--')\n",
    "plt.xlim(0.0, 1.0)\n",
    "plt.ylim(0.0, 1.0)\n",
    "plt.xlabel('False Positive Rate')\n",
    "plt.ylabel('True Positive Rate')\n",
    "plt.title(\"ROC-кривая\")\n",
    "plt.show()"
   ]
  },
  {
   "cell_type": "markdown",
   "id": "ab71e18d",
   "metadata": {},
   "source": [
    "Чем больше площадь под графиком ROC-curve, тем лучше отработала модель, по сравнению с случайным классфикатором. Как мы видим, визуально, площадь получилась большой, что, в купе с показателем ROC-AUC в ~0.95, дает нам основания полагать, что модель справилась с задачей. Убедимся в этом, взглянув и на количественную визуализацию матрицы ошибок:"
   ]
  },
  {
   "cell_type": "code",
   "execution_count": 54,
   "id": "97c6a279",
   "metadata": {},
   "outputs": [
    {
     "data": {
      "text/plain": [
       "<AxesSubplot:>"
      ]
     },
     "execution_count": 54,
     "metadata": {},
     "output_type": "execute_result"
    },
    {
     "data": {
      "image/png": "[encoded data removed]",
      "text/plain": [
       "<Figure size 432x360 with 2 Axes>"
      ]
     },
     "metadata": {
      "needs_background": "light"
     },
     "output_type": "display_data"
    }
   ],
   "source": [
    "f, ax = plt.subplots(figsize=(6, 5))\n",
    "sns.heatmap(confusion_matrix(y_test, pred), annot=True, fmt='1')"
   ]
  },
  {
   "cell_type": "markdown",
   "id": "76d18a4a",
   "metadata": {},
   "source": [
    "## Итоговый отчет"
   ]
  },
  {
   "cell_type": "markdown",
   "id": "68f0def5",
   "metadata": {},
   "source": [
    "Итак, нам необходимо было разработать модель оттока клиентов оператора сотовой связи, что получилось:\n",
    "\n",
    "\n",
    "**План итогового решения**\n",
    "\n",
    "Представленные заказчиком данные были корректно загружены и первично проанализированы. Мы взглянули на их корректность и составили общее представление о данных.\n",
    "\n",
    "\n",
    "На основе этих выводов, был составен список уточняющих вопросов к тимлиду, где мы дополнили задачу и выяснили ряд технических моментов и, самое главное, критерии оценки качества выполненной задачи.\n",
    "\n",
    "\n",
    "По большей части предоставленные данные были корректны без большого количества ошибок и необходимости глобально их моделировать. В процессе предобработки мы лишь закодировали ряд категориальных признаков и смоделировали признак количества дней, в которые клиент был в системе оператора.\n",
    "\n",
    "\n",
    "После предобработки у нас открылась возможность подробнее взглянуть на признаки, в частности - количественные. Мы построили визуализацию по оплате тарифов и услуг от клиентов: помесячной и общей. Неоправданных выбросов не обнаружено, картина распределения логичная. В дальнейшем мы проанализировали важности признаков для моделирования оттока и избавились от имеющих наименьшее значение. Затем, при построении модели, мы их дополнительно проранжируем и будем это учитывать.\n",
    "\n",
    "\n",
    "С подготовленными данными мы приступили к непосредственной разработке модели. На данном объеме признаков и объектов, применять модели глубокого обучения, смысла мало, поэтому мы рассмотрели модели классического машинного обучения:\n",
    "\n",
    " * XGBoostClassifier: именно данный алгоритм экстремального градиентного бустинга показал самый высокий результат.\n",
    " \n",
    " * Алгоритмы с L1 и L2 регуляризациями, Lasso и Ridge, соответсвенно, с задачей так же справились, но не достигли относительно высоких показателей.\n",
    " \n",
    " * Линейные модели LogisticRegression и алгоритм опорных векторов SVM показали примерно схожие результаты, что и предыдущие два.\n",
    " \n",
    " * Алгоритм случайного леса тоже был рассмотрен, и он показал хороший результат.\n",
    " \n",
    "Исходя из исследования, модель на база экстримального градиентного бустинга, XGBoostClassifier, показала лучший результат метрики AUC-ROC (~0.95), и мы рекомендует имеенно ее для продвижения в продакшн.\n",
    "\n",
    "\n",
    "**Трудности в работе**\n",
    "\n",
    "Трудностями в процессе работы стали: необходимость учета важности признаков и правильное итоговое объединение данных. Первое мы решили с помощью анализа корреляции признаков и применение метода ранжирования признаков по важности. После объединения данных по идентификатору клиента, появилось большое количество пропущенных значнений. Мы проанализировали тарифы и услуги оператора и приняли решение, что пропуск может образоваться только при условии, что клиент соответствующей услугой не пользуется. \n",
    "\n",
    "\n",
    "**Использованные признаки**\n",
    "\n",
    "В процессе разработки модели, мы избавились от некоторых самых мало влияющих на целевой признаки. Такие признаки как, например, признак пола, имеет низкую корреляцию практичеки со всеми остальными - его можно считать шумом. От некоторых таких мы избавились. Признак даты начала договора рассматривать было бы не корректно, поэтому мы сгенерировали на его основе новый - признак количества дней, которые клиент остается с оператором.\n",
    "\n",
    "\n",
    "**Конечная модель**\n",
    "\n",
    "Итоговую модель мы построили через пайплайн со следующим содержанием:\n",
    "\n",
    "* В начале находится алгоритм ранжирования признаков по важности;\n",
    "\n",
    "* Затем алгоритм стандартизирования StandardScaler, который будет масштабировать данные до единичной дисперсии, что является необходимым требованием для нас из-за, как минимум, наличия и категориальных признаков, и количественных.\n",
    "\n",
    "* В конце находится модель XGBoost, которая принимает преобразованные данные.\n",
    "\n",
    "**Описание модели**\n",
    "\n",
    "Как только мы приняли решение рассматривать при тестировании XGBoost, мы, с помощью алгоритма GridSearch, подобрали параметры оптимальной работы модели. При максимальной глубине - 5, и количестве деревьев - 250, мы получили наилучий показатель метрики ROC-AUC в (~0.95).\n",
    "\n",
    "**Ключевые особенности достижения итовой метрики**\n",
    "\n",
    "Главными компонентами, в нашем случае, стали: препроцессинг и работа с важностью признаков, а также рассмотрение большого количества различных алгоритмов машинного обучения."
   ]
  }
 ],
 "metadata": {
  "ExecuteTimeLog": [
   {
    "duration": 95,
    "start_time": "2022-09-13T09:48:58.324Z"
   },
   {
    "duration": 93,
    "start_time": "2022-09-13T10:52:59.844Z"
   },
   {
    "duration": 3,
    "start_time": "2022-09-13T11:04:07.720Z"
   },
   {
    "duration": 3,
    "start_time": "2022-09-13T11:04:08.163Z"
   },
   {
    "duration": 17,
    "start_time": "2022-09-13T11:04:09.652Z"
   },
   {
    "duration": 105,
    "start_time": "2022-09-13T11:07:23.259Z"
   },
   {
    "duration": 1496,
    "start_time": "2022-09-13T16:42:58.619Z"
   },
   {
    "duration": 5,
    "start_time": "2022-09-13T16:43:00.120Z"
   },
   {
    "duration": 423,
    "start_time": "2022-09-13T16:43:00.127Z"
   },
   {
    "duration": 491,
    "start_time": "2022-09-13T16:43:00.551Z"
   },
   {
    "duration": 253,
    "start_time": "2022-09-13T16:43:01.044Z"
   },
   {
    "duration": 39,
    "start_time": "2022-09-13T16:43:01.298Z"
   },
   {
    "duration": 406,
    "start_time": "2022-09-13T16:43:01.340Z"
   },
   {
    "duration": 301,
    "start_time": "2022-09-13T16:43:01.748Z"
   },
   {
    "duration": 274,
    "start_time": "2022-09-13T16:43:02.051Z"
   },
   {
    "duration": 7,
    "start_time": "2022-09-13T16:43:02.328Z"
   },
   {
    "duration": 39418,
    "start_time": "2022-09-19T23:05:52.598Z"
   },
   {
    "duration": 6095,
    "start_time": "2022-09-19T23:06:32.018Z"
   },
   {
    "duration": 4,
    "start_time": "2022-09-19T23:06:38.114Z"
   },
   {
    "duration": 891,
    "start_time": "2022-09-19T23:06:38.120Z"
   },
   {
    "duration": 1018,
    "start_time": "2022-09-19T23:06:39.014Z"
   },
   {
    "duration": 600,
    "start_time": "2022-09-19T23:06:40.110Z"
   },
   {
    "duration": 109,
    "start_time": "2022-09-19T23:06:40.712Z"
   },
   {
    "duration": 488,
    "start_time": "2022-09-19T23:06:40.823Z"
   },
   {
    "duration": 499,
    "start_time": "2022-09-19T23:06:41.313Z"
   },
   {
    "duration": 495,
    "start_time": "2022-09-19T23:06:41.814Z"
   },
   {
    "duration": 8,
    "start_time": "2022-09-19T23:06:42.311Z"
   },
   {
    "duration": 896,
    "start_time": "2022-09-19T23:06:42.320Z"
   },
   {
    "duration": 4,
    "start_time": "2022-09-19T23:06:43.218Z"
   },
   {
    "duration": 102,
    "start_time": "2022-09-19T23:06:43.225Z"
   },
   {
    "duration": 93,
    "start_time": "2022-09-19T23:06:43.329Z"
   },
   {
    "duration": 86,
    "start_time": "2022-09-19T23:06:43.424Z"
   },
   {
    "duration": 9,
    "start_time": "2022-09-19T23:06:43.512Z"
   },
   {
    "duration": 91,
    "start_time": "2022-09-19T23:06:43.522Z"
   },
   {
    "duration": 8,
    "start_time": "2022-09-19T23:06:43.616Z"
   },
   {
    "duration": 88,
    "start_time": "2022-09-19T23:06:43.626Z"
   },
   {
    "duration": 8,
    "start_time": "2022-09-19T23:06:43.716Z"
   },
   {
    "duration": 102,
    "start_time": "2022-09-19T23:06:43.810Z"
   },
   {
    "duration": 5,
    "start_time": "2022-09-19T23:06:43.913Z"
   },
   {
    "duration": 93,
    "start_time": "2022-09-19T23:06:43.919Z"
   },
   {
    "duration": 16,
    "start_time": "2022-09-19T23:06:44.013Z"
   },
   {
    "duration": 8,
    "start_time": "2022-09-19T23:06:44.030Z"
   },
   {
    "duration": 4,
    "start_time": "2022-09-19T23:06:44.040Z"
   },
   {
    "duration": 4,
    "start_time": "2022-09-19T23:06:44.045Z"
   },
   {
    "duration": 9,
    "start_time": "2022-09-19T23:06:44.050Z"
   },
   {
    "duration": 52,
    "start_time": "2022-09-19T23:06:44.061Z"
   },
   {
    "duration": 8,
    "start_time": "2022-09-19T23:06:44.115Z"
   },
   {
    "duration": 10,
    "start_time": "2022-09-19T23:06:44.125Z"
   },
   {
    "duration": 7,
    "start_time": "2022-09-19T23:06:44.136Z"
   },
   {
    "duration": 65,
    "start_time": "2022-09-19T23:06:44.145Z"
   },
   {
    "duration": 32,
    "start_time": "2022-09-19T23:06:44.212Z"
   },
   {
    "duration": 11,
    "start_time": "2022-09-19T23:06:44.246Z"
   },
   {
    "duration": 31,
    "start_time": "2022-09-19T23:06:44.259Z"
   },
   {
    "duration": 18,
    "start_time": "2022-09-19T23:06:44.309Z"
   },
   {
    "duration": 89,
    "start_time": "2022-09-19T23:06:44.329Z"
   },
   {
    "duration": 16,
    "start_time": "2022-09-19T23:06:44.420Z"
   },
   {
    "duration": 874,
    "start_time": "2022-09-19T23:06:44.443Z"
   },
   {
    "duration": 1292,
    "start_time": "2022-09-19T23:06:45.320Z"
   },
   {
    "duration": 1100,
    "start_time": "2022-09-19T23:06:46.615Z"
   },
   {
    "duration": 95,
    "start_time": "2022-09-19T23:06:47.716Z"
   },
   {
    "duration": 7,
    "start_time": "2022-09-19T23:06:47.813Z"
   },
   {
    "duration": 93,
    "start_time": "2022-09-19T23:06:47.821Z"
   },
   {
    "duration": 10469,
    "start_time": "2022-09-19T23:06:47.915Z"
   },
   {
    "duration": 5,
    "start_time": "2022-09-19T23:06:58.385Z"
   },
   {
    "duration": 21,
    "start_time": "2022-09-19T23:06:58.391Z"
   },
   {
    "duration": 17,
    "start_time": "2022-09-19T23:06:58.413Z"
   },
   {
    "duration": 3,
    "start_time": "2022-09-19T23:06:58.431Z"
   },
   {
    "duration": 10,
    "start_time": "2022-09-19T23:06:58.435Z"
   },
   {
    "duration": 16703,
    "start_time": "2022-09-20T00:20:29.315Z"
   },
   {
    "duration": 2714,
    "start_time": "2022-09-20T00:20:46.110Z"
   },
   {
    "duration": 4,
    "start_time": "2022-09-20T00:20:48.826Z"
   },
   {
    "duration": 356,
    "start_time": "2022-09-20T00:20:48.832Z"
   },
   {
    "duration": 341,
    "start_time": "2022-09-20T00:20:49.208Z"
   },
   {
    "duration": 331,
    "start_time": "2022-09-20T00:20:49.551Z"
   },
   {
    "duration": 33,
    "start_time": "2022-09-20T00:20:49.909Z"
   },
   {
    "duration": 270,
    "start_time": "2022-09-20T00:20:50.009Z"
   },
   {
    "duration": 255,
    "start_time": "2022-09-20T00:20:50.281Z"
   },
   {
    "duration": 281,
    "start_time": "2022-09-20T00:20:50.537Z"
   },
   {
    "duration": 8,
    "start_time": "2022-09-20T00:20:50.820Z"
   },
   {
    "duration": 345,
    "start_time": "2022-09-20T00:20:50.830Z"
   },
   {
    "duration": 4,
    "start_time": "2022-09-20T00:20:51.209Z"
   },
   {
    "duration": 20,
    "start_time": "2022-09-20T00:20:51.216Z"
   },
   {
    "duration": 71,
    "start_time": "2022-09-20T00:20:51.238Z"
   },
   {
    "duration": 9,
    "start_time": "2022-09-20T00:20:51.310Z"
   },
   {
    "duration": 20,
    "start_time": "2022-09-20T00:20:51.320Z"
   },
   {
    "duration": 11,
    "start_time": "2022-09-20T00:20:51.341Z"
   },
   {
    "duration": 61,
    "start_time": "2022-09-20T00:20:51.353Z"
   },
   {
    "duration": 9,
    "start_time": "2022-09-20T00:20:51.416Z"
   },
   {
    "duration": 10,
    "start_time": "2022-09-20T00:20:51.426Z"
   },
   {
    "duration": 71,
    "start_time": "2022-09-20T00:20:51.438Z"
   },
   {
    "duration": 4,
    "start_time": "2022-09-20T00:20:51.512Z"
   },
   {
    "duration": 11,
    "start_time": "2022-09-20T00:20:51.518Z"
   },
   {
    "duration": 22,
    "start_time": "2022-09-20T00:20:51.531Z"
   },
   {
    "duration": 9,
    "start_time": "2022-09-20T00:20:51.609Z"
   },
   {
    "duration": 17,
    "start_time": "2022-09-20T00:20:51.620Z"
   },
   {
    "duration": 16,
    "start_time": "2022-09-20T00:20:51.638Z"
   },
   {
    "duration": 59,
    "start_time": "2022-09-20T00:20:51.656Z"
   },
   {
    "duration": 10,
    "start_time": "2022-09-20T00:20:51.717Z"
   },
   {
    "duration": 4,
    "start_time": "2022-09-20T00:20:51.729Z"
   },
   {
    "duration": 8,
    "start_time": "2022-09-20T00:20:51.735Z"
   },
   {
    "duration": 67,
    "start_time": "2022-09-20T00:20:51.744Z"
   },
   {
    "duration": 38,
    "start_time": "2022-09-20T00:20:51.812Z"
   },
   {
    "duration": 64,
    "start_time": "2022-09-20T00:20:51.851Z"
   },
   {
    "duration": 12,
    "start_time": "2022-09-20T00:20:51.917Z"
   },
   {
    "duration": 80,
    "start_time": "2022-09-20T00:20:51.930Z"
   },
   {
    "duration": 19,
    "start_time": "2022-09-20T00:20:52.011Z"
   },
   {
    "duration": 118,
    "start_time": "2022-09-20T00:20:52.031Z"
   },
   {
    "duration": 59,
    "start_time": "2022-09-20T00:20:52.150Z"
   },
   {
    "duration": 611,
    "start_time": "2022-09-20T00:20:52.213Z"
   },
   {
    "duration": 591,
    "start_time": "2022-09-20T00:20:52.826Z"
   },
   {
    "duration": 513,
    "start_time": "2022-09-20T00:20:53.418Z"
   },
   {
    "duration": 12,
    "start_time": "2022-09-20T00:20:53.932Z"
   },
   {
    "duration": 63,
    "start_time": "2022-09-20T00:20:53.946Z"
   },
   {
    "duration": 6,
    "start_time": "2022-09-20T00:20:54.011Z"
   },
   {
    "duration": 4931,
    "start_time": "2022-09-20T00:20:54.018Z"
   },
   {
    "duration": 59,
    "start_time": "2022-09-20T00:20:58.951Z"
   },
   {
    "duration": 31,
    "start_time": "2022-09-20T00:20:59.012Z"
   },
   {
    "duration": 198,
    "start_time": "2022-09-20T00:20:59.044Z"
   },
   {
    "duration": 3,
    "start_time": "2022-09-20T00:20:59.243Z"
   },
   {
    "duration": 64,
    "start_time": "2022-09-20T00:20:59.248Z"
   },
   {
    "duration": 18771596,
    "start_time": "2022-09-20T00:20:59.314Z"
   },
   {
    "duration": 0,
    "start_time": "2022-09-20T05:33:50.919Z"
   },
   {
    "duration": 0,
    "start_time": "2022-09-20T05:33:50.920Z"
   },
   {
    "duration": 0,
    "start_time": "2022-09-20T05:33:50.921Z"
   },
   {
    "duration": 0,
    "start_time": "2022-09-20T05:33:50.923Z"
   },
   {
    "duration": 0,
    "start_time": "2022-09-20T05:33:50.924Z"
   },
   {
    "duration": 0,
    "start_time": "2022-09-20T05:33:50.926Z"
   },
   {
    "duration": 0,
    "start_time": "2022-09-20T05:33:50.926Z"
   },
   {
    "duration": 0,
    "start_time": "2022-09-20T05:33:50.927Z"
   },
   {
    "duration": 0,
    "start_time": "2022-09-20T05:33:50.928Z"
   },
   {
    "duration": 0,
    "start_time": "2022-09-20T05:33:50.928Z"
   },
   {
    "duration": 0,
    "start_time": "2022-09-20T05:33:50.929Z"
   },
   {
    "duration": 0,
    "start_time": "2022-09-20T05:33:50.930Z"
   },
   {
    "duration": 0,
    "start_time": "2022-09-20T05:33:50.930Z"
   },
   {
    "duration": 47709,
    "start_time": "2022-09-20T05:33:55.109Z"
   },
   {
    "duration": 0,
    "start_time": "2022-09-20T05:34:42.820Z"
   },
   {
    "duration": 0,
    "start_time": "2022-09-20T05:34:42.821Z"
   },
   {
    "duration": 0,
    "start_time": "2022-09-20T05:34:42.910Z"
   },
   {
    "duration": 0,
    "start_time": "2022-09-20T05:34:42.911Z"
   },
   {
    "duration": 0,
    "start_time": "2022-09-20T05:34:42.912Z"
   },
   {
    "duration": 4,
    "start_time": "2022-09-20T05:34:49.713Z"
   },
   {
    "duration": 6,
    "start_time": "2022-09-20T05:34:56.110Z"
   },
   {
    "duration": 429400,
    "start_time": "2022-09-20T05:34:56.314Z"
   },
   {
    "duration": 30899,
    "start_time": "2022-09-20T05:43:10.424Z"
   },
   {
    "duration": 0,
    "start_time": "2022-09-20T05:43:41.325Z"
   },
   {
    "duration": 0,
    "start_time": "2022-09-20T05:43:41.327Z"
   },
   {
    "duration": 353291,
    "start_time": "2022-09-20T05:43:48.027Z"
   },
   {
    "duration": 0,
    "start_time": "2022-09-20T05:49:41.324Z"
   },
   {
    "duration": 0,
    "start_time": "2022-09-20T05:49:41.325Z"
   },
   {
    "duration": 7890,
    "start_time": "2022-09-21T09:17:35.727Z"
   },
   {
    "duration": 8,
    "start_time": "2022-09-21T09:17:43.621Z"
   },
   {
    "duration": 5,
    "start_time": "2022-09-21T09:17:43.631Z"
   },
   {
    "duration": 377,
    "start_time": "2022-09-21T09:17:43.637Z"
   },
   {
    "duration": 629,
    "start_time": "2022-09-21T09:17:44.016Z"
   },
   {
    "duration": 323,
    "start_time": "2022-09-21T09:17:44.648Z"
   },
   {
    "duration": 50,
    "start_time": "2022-09-21T09:17:44.972Z"
   },
   {
    "duration": 288,
    "start_time": "2022-09-21T09:17:45.023Z"
   },
   {
    "duration": 314,
    "start_time": "2022-09-21T09:17:45.312Z"
   },
   {
    "duration": 406,
    "start_time": "2022-09-21T09:17:45.627Z"
   },
   {
    "duration": 6,
    "start_time": "2022-09-21T09:17:46.034Z"
   },
   {
    "duration": 517,
    "start_time": "2022-09-21T09:17:46.042Z"
   },
   {
    "duration": 3,
    "start_time": "2022-09-21T09:17:46.561Z"
   },
   {
    "duration": 50,
    "start_time": "2022-09-21T09:17:46.566Z"
   },
   {
    "duration": 7,
    "start_time": "2022-09-21T09:17:46.618Z"
   },
   {
    "duration": 8,
    "start_time": "2022-09-21T09:17:46.627Z"
   },
   {
    "duration": 5,
    "start_time": "2022-09-21T09:17:46.637Z"
   },
   {
    "duration": 68,
    "start_time": "2022-09-21T09:17:46.644Z"
   },
   {
    "duration": 6,
    "start_time": "2022-09-21T09:17:46.714Z"
   },
   {
    "duration": 9,
    "start_time": "2022-09-21T09:17:46.722Z"
   },
   {
    "duration": 95,
    "start_time": "2022-09-21T09:17:46.733Z"
   },
   {
    "duration": 86,
    "start_time": "2022-09-21T09:17:46.830Z"
   },
   {
    "duration": 9,
    "start_time": "2022-09-21T09:17:46.918Z"
   },
   {
    "duration": 83,
    "start_time": "2022-09-21T09:17:46.929Z"
   },
   {
    "duration": 22,
    "start_time": "2022-09-21T09:17:47.014Z"
   },
   {
    "duration": 192,
    "start_time": "2022-09-21T09:17:47.038Z"
   },
   {
    "duration": 7,
    "start_time": "2022-09-21T09:17:47.232Z"
   },
   {
    "duration": 415,
    "start_time": "2022-09-21T09:17:47.240Z"
   },
   {
    "duration": 509,
    "start_time": "2022-09-21T09:17:47.709Z"
   },
   {
    "duration": 507,
    "start_time": "2022-09-21T09:17:48.220Z"
   },
   {
    "duration": 20,
    "start_time": "2022-09-21T09:17:48.729Z"
   },
   {
    "duration": 11,
    "start_time": "2022-09-21T09:17:48.809Z"
   },
   {
    "duration": 25,
    "start_time": "2022-09-21T09:17:48.824Z"
   },
   {
    "duration": 8698,
    "start_time": "2022-09-21T09:17:48.851Z"
   },
   {
    "duration": 60,
    "start_time": "2022-09-21T09:17:57.551Z"
   },
   {
    "duration": 45,
    "start_time": "2022-09-21T09:17:57.613Z"
   },
   {
    "duration": 62,
    "start_time": "2022-09-21T09:17:57.660Z"
   },
   {
    "duration": 50,
    "start_time": "2022-09-21T09:17:57.723Z"
   },
   {
    "duration": 38,
    "start_time": "2022-09-21T09:17:57.775Z"
   },
   {
    "duration": 49,
    "start_time": "2022-09-21T09:35:33.046Z"
   },
   {
    "duration": 142,
    "start_time": "2022-09-22T11:01:22.652Z"
   }
  ],
  "kernelspec": {
   "display_name": "Python 3 (ipykernel)",
   "language": "python",
   "name": "python3"
  },
  "language_info": {
   "codemirror_mode": {
    "name": "ipython",
    "version": 3
   },
   "file_extension": ".py",
   "mimetype": "text/x-python",
   "name": "python",
   "nbconvert_exporter": "python",
   "pygments_lexer": "ipython3",
   "version": "3.10.4"
  },
  "toc": {
   "base_numbering": 1,
   "nav_menu": {},
   "number_sections": true,
   "sideBar": true,
   "skip_h1_title": true,
   "title_cell": "Содержание проекта",
   "title_sidebar": "Contents",
   "toc_cell": true,
   "toc_position": {
    "height": "calc(100% - 180px)",
    "left": "10px",
    "top": "150px",
    "width": "313.306px"
   },
   "toc_section_display": true,
   "toc_window_display": false
  }
 },
 "nbformat": 4,
 "nbformat_minor": 5
}
